{
  "cells": [
    {
      "cell_type": "markdown",
      "metadata": {
        "id": "uqLqfKkKICQe"
      },
      "source": [
        "# Winging It: A Comparative Machine Learning Approach to Bird Sound Classification"
      ]
    },
    {
      "cell_type": "markdown",
      "metadata": {
        "id": "BJSwvGl5ICQi"
      },
      "source": [
        "- Tommaso Ghisini: togh22ab@student.cbs.dk\n",
        "- Alexander James Mealor: alme22ab@stduent.cbs.dk\n",
        "- Alexander Ries: alri22ac@student.cbs.dk\n",
        "- Aleksander August Fowler Torp: alto22ad@student.cbs.dk"
      ]
    },
    {
      "cell_type": "markdown",
      "metadata": {
        "id": "d3cWG_zSICQi"
      },
      "source": [
        "The monitoring of bird species has the potential for meaningful application far beyond avian conservation efforts, including - but not limited to - environmental change and land usage. Historically onerous tracking efforts have become far less burdensome with the growth of crowd-sourced bird audio recordings and the ability to use this data for species classification. In this paper we address the problem of how such classification efforts can be both automated and optimized by machine learning techniques. Utilizing the BirdCLEF 2023 dataset, we implement three different models - a Random Forest Classifier (RFC), a Convolutional Neural Network (CNN) and a Recurrent Convolutional Neural Network - that build upon audio classification tasks in an evolutionary way."
      ]
    },
    {
      "cell_type": "markdown",
      "source": [
        "###Data and Preprocessing Details\n",
        "\n",
        "- **Data Link**: https://drive.google.com/drive/folders/1OKWG4V5kW3-e44b3XfttJ7LVBqO4eUF_?usp=sharing\n",
        "(Backup link: https://1drv.ms/f/s!AiqIYDThiBNP4WLLT5VrUad6RpTG?e=1l5ab9)\n",
        "- **Preprocessing**: The notebook contains functions to preprocess a large amount of data, which may take over 3 hours to run.\n",
        "- **GPU Training**: The Neural Networks in the notebook were trained on GPUs, so training them on a regular computer may not yield optimal results.\n",
        "\n",
        "*Please access the provided data link, allocate sufficient processing time, and consider using a GPU-enabled environment for better performance.*"
      ],
      "metadata": {
        "id": "uWTDOiUAhCGv"
      }
    },
    {
      "cell_type": "code",
      "execution_count": null,
      "metadata": {
        "id": "5S4Oq3MBICQj"
      },
      "outputs": [],
      "source": [
        "import os\n",
        "import numpy as np\n",
        "import pandas as pd\n",
        "\n",
        "import matplotlib.pyplot as plt\n",
        "import seaborn as sns\n",
        "\n",
        "import librosa\n",
        "import noisereduce as nr\n",
        "\n",
        "from tqdm import tqdm\n",
        "\n",
        "from sklearn.model_selection import train_test_split\n",
        "from sklearn.preprocessing import LabelEncoder\n",
        "from sklearn.metrics import classification_report\n",
        "from sklearn.ensemble import RandomForestClassifier\n",
        "from sklearn.metrics import accuracy_score\n",
        "\n",
        "import tensorflow as tf\n",
        "from tensorflow.keras import Input\n",
        "from tensorflow.keras.utils import to_categorical\n",
        "from tensorflow.keras.models import Sequential\n",
        "from tensorflow.keras.layers import Conv2D, MaxPooling2D, Flatten, Dense, Dropout, BatchNormalization, ReLU, ELU, Reshape, LSTM, Bidirectional\n",
        "from tensorflow.keras.callbacks import ReduceLROnPlateau\n",
        "from tensorflow.keras.optimizers import Adam\n"
      ]
    },
    {
      "cell_type": "markdown",
      "metadata": {
        "id": "oR4LyE7_ICQl"
      },
      "source": [
        "## Exploratory Data Analysis\n",
        "\n",
        "We start with examining the metatada of the audio samples."
      ]
    },
    {
      "cell_type": "code",
      "execution_count": null,
      "metadata": {
        "id": "BW1fkNNJICQl"
      },
      "outputs": [],
      "source": [
        "path_metadata = './data/metadata.csv'\n",
        "metadata = pd.read_csv(path_metadata)"
      ]
    },
    {
      "cell_type": "code",
      "execution_count": null,
      "metadata": {
        "colab": {
          "base_uri": "https://localhost:8080/",
          "height": 608
        },
        "id": "HTrjxLOnICQl",
        "outputId": "cbcf3684-5ae5-46a4-befb-28e26574b712"
      },
      "outputs": [
        {
          "output_type": "execute_result",
          "data": {
            "text/plain": [
              "  primary_label secondary_labels              type  latitude  longitude  \\\n",
              "0       abethr1               []          ['song']    4.3906    38.2788   \n",
              "1       abethr1               []          ['call']   -2.9524    38.2921   \n",
              "2       abethr1               []          ['song']   -2.9524    38.2921   \n",
              "3       abethr1               []          ['song']   -2.9524    38.2921   \n",
              "4       abethr1               []  ['call', 'song']   -2.9524    38.2921   \n",
              "\n",
              "      scientific_name               common_name         author  \\\n",
              "0  Turdus tephronotus  African Bare-eyed Thrush  Rolf A. de By   \n",
              "1  Turdus tephronotus  African Bare-eyed Thrush  James Bradley   \n",
              "2  Turdus tephronotus  African Bare-eyed Thrush  James Bradley   \n",
              "3  Turdus tephronotus  African Bare-eyed Thrush  James Bradley   \n",
              "4  Turdus tephronotus  African Bare-eyed Thrush  James Bradley   \n",
              "\n",
              "                                             license  rating  \\\n",
              "0  Creative Commons Attribution-NonCommercial-Sha...     4.0   \n",
              "1  Creative Commons Attribution-NonCommercial-Sha...     3.5   \n",
              "2  Creative Commons Attribution-NonCommercial-Sha...     3.5   \n",
              "3  Creative Commons Attribution-NonCommercial-Sha...     5.0   \n",
              "4  Creative Commons Attribution-NonCommercial-Sha...     4.5   \n",
              "\n",
              "                                 url              filename  \n",
              "0  https://www.xeno-canto.org/128013  abethr1/XC128013.ogg  \n",
              "1  https://www.xeno-canto.org/363501  abethr1/XC363501.ogg  \n",
              "2  https://www.xeno-canto.org/363502  abethr1/XC363502.ogg  \n",
              "3  https://www.xeno-canto.org/363503  abethr1/XC363503.ogg  \n",
              "4  https://www.xeno-canto.org/363504  abethr1/XC363504.ogg  "
            ],
            "text/html": [
              "\n",
              "  <div id=\"df-ebe25604-0e22-4b42-8634-4955e13937fc\">\n",
              "    <div class=\"colab-df-container\">\n",
              "      <div>\n",
              "<style scoped>\n",
              "    .dataframe tbody tr th:only-of-type {\n",
              "        vertical-align: middle;\n",
              "    }\n",
              "\n",
              "    .dataframe tbody tr th {\n",
              "        vertical-align: top;\n",
              "    }\n",
              "\n",
              "    .dataframe thead th {\n",
              "        text-align: right;\n",
              "    }\n",
              "</style>\n",
              "<table border=\"1\" class=\"dataframe\">\n",
              "  <thead>\n",
              "    <tr style=\"text-align: right;\">\n",
              "      <th></th>\n",
              "      <th>primary_label</th>\n",
              "      <th>secondary_labels</th>\n",
              "      <th>type</th>\n",
              "      <th>latitude</th>\n",
              "      <th>longitude</th>\n",
              "      <th>scientific_name</th>\n",
              "      <th>common_name</th>\n",
              "      <th>author</th>\n",
              "      <th>license</th>\n",
              "      <th>rating</th>\n",
              "      <th>url</th>\n",
              "      <th>filename</th>\n",
              "    </tr>\n",
              "  </thead>\n",
              "  <tbody>\n",
              "    <tr>\n",
              "      <th>0</th>\n",
              "      <td>abethr1</td>\n",
              "      <td>[]</td>\n",
              "      <td>['song']</td>\n",
              "      <td>4.3906</td>\n",
              "      <td>38.2788</td>\n",
              "      <td>Turdus tephronotus</td>\n",
              "      <td>African Bare-eyed Thrush</td>\n",
              "      <td>Rolf A. de By</td>\n",
              "      <td>Creative Commons Attribution-NonCommercial-Sha...</td>\n",
              "      <td>4.0</td>\n",
              "      <td>https://www.xeno-canto.org/128013</td>\n",
              "      <td>abethr1/XC128013.ogg</td>\n",
              "    </tr>\n",
              "    <tr>\n",
              "      <th>1</th>\n",
              "      <td>abethr1</td>\n",
              "      <td>[]</td>\n",
              "      <td>['call']</td>\n",
              "      <td>-2.9524</td>\n",
              "      <td>38.2921</td>\n",
              "      <td>Turdus tephronotus</td>\n",
              "      <td>African Bare-eyed Thrush</td>\n",
              "      <td>James Bradley</td>\n",
              "      <td>Creative Commons Attribution-NonCommercial-Sha...</td>\n",
              "      <td>3.5</td>\n",
              "      <td>https://www.xeno-canto.org/363501</td>\n",
              "      <td>abethr1/XC363501.ogg</td>\n",
              "    </tr>\n",
              "    <tr>\n",
              "      <th>2</th>\n",
              "      <td>abethr1</td>\n",
              "      <td>[]</td>\n",
              "      <td>['song']</td>\n",
              "      <td>-2.9524</td>\n",
              "      <td>38.2921</td>\n",
              "      <td>Turdus tephronotus</td>\n",
              "      <td>African Bare-eyed Thrush</td>\n",
              "      <td>James Bradley</td>\n",
              "      <td>Creative Commons Attribution-NonCommercial-Sha...</td>\n",
              "      <td>3.5</td>\n",
              "      <td>https://www.xeno-canto.org/363502</td>\n",
              "      <td>abethr1/XC363502.ogg</td>\n",
              "    </tr>\n",
              "    <tr>\n",
              "      <th>3</th>\n",
              "      <td>abethr1</td>\n",
              "      <td>[]</td>\n",
              "      <td>['song']</td>\n",
              "      <td>-2.9524</td>\n",
              "      <td>38.2921</td>\n",
              "      <td>Turdus tephronotus</td>\n",
              "      <td>African Bare-eyed Thrush</td>\n",
              "      <td>James Bradley</td>\n",
              "      <td>Creative Commons Attribution-NonCommercial-Sha...</td>\n",
              "      <td>5.0</td>\n",
              "      <td>https://www.xeno-canto.org/363503</td>\n",
              "      <td>abethr1/XC363503.ogg</td>\n",
              "    </tr>\n",
              "    <tr>\n",
              "      <th>4</th>\n",
              "      <td>abethr1</td>\n",
              "      <td>[]</td>\n",
              "      <td>['call', 'song']</td>\n",
              "      <td>-2.9524</td>\n",
              "      <td>38.2921</td>\n",
              "      <td>Turdus tephronotus</td>\n",
              "      <td>African Bare-eyed Thrush</td>\n",
              "      <td>James Bradley</td>\n",
              "      <td>Creative Commons Attribution-NonCommercial-Sha...</td>\n",
              "      <td>4.5</td>\n",
              "      <td>https://www.xeno-canto.org/363504</td>\n",
              "      <td>abethr1/XC363504.ogg</td>\n",
              "    </tr>\n",
              "  </tbody>\n",
              "</table>\n",
              "</div>\n",
              "      <button class=\"colab-df-convert\" onclick=\"convertToInteractive('df-ebe25604-0e22-4b42-8634-4955e13937fc')\"\n",
              "              title=\"Convert this dataframe to an interactive table.\"\n",
              "              style=\"display:none;\">\n",
              "        \n",
              "  <svg xmlns=\"http://www.w3.org/2000/svg\" height=\"24px\"viewBox=\"0 0 24 24\"\n",
              "       width=\"24px\">\n",
              "    <path d=\"M0 0h24v24H0V0z\" fill=\"none\"/>\n",
              "    <path d=\"M18.56 5.44l.94 2.06.94-2.06 2.06-.94-2.06-.94-.94-2.06-.94 2.06-2.06.94zm-11 1L8.5 8.5l.94-2.06 2.06-.94-2.06-.94L8.5 2.5l-.94 2.06-2.06.94zm10 10l.94 2.06.94-2.06 2.06-.94-2.06-.94-.94-2.06-.94 2.06-2.06.94z\"/><path d=\"M17.41 7.96l-1.37-1.37c-.4-.4-.92-.59-1.43-.59-.52 0-1.04.2-1.43.59L10.3 9.45l-7.72 7.72c-.78.78-.78 2.05 0 2.83L4 21.41c.39.39.9.59 1.41.59.51 0 1.02-.2 1.41-.59l7.78-7.78 2.81-2.81c.8-.78.8-2.07 0-2.86zM5.41 20L4 18.59l7.72-7.72 1.47 1.35L5.41 20z\"/>\n",
              "  </svg>\n",
              "      </button>\n",
              "      \n",
              "  <style>\n",
              "    .colab-df-container {\n",
              "      display:flex;\n",
              "      flex-wrap:wrap;\n",
              "      gap: 12px;\n",
              "    }\n",
              "\n",
              "    .colab-df-convert {\n",
              "      background-color: #E8F0FE;\n",
              "      border: none;\n",
              "      border-radius: 50%;\n",
              "      cursor: pointer;\n",
              "      display: none;\n",
              "      fill: #1967D2;\n",
              "      height: 32px;\n",
              "      padding: 0 0 0 0;\n",
              "      width: 32px;\n",
              "    }\n",
              "\n",
              "    .colab-df-convert:hover {\n",
              "      background-color: #E2EBFA;\n",
              "      box-shadow: 0px 1px 2px rgba(60, 64, 67, 0.3), 0px 1px 3px 1px rgba(60, 64, 67, 0.15);\n",
              "      fill: #174EA6;\n",
              "    }\n",
              "\n",
              "    [theme=dark] .colab-df-convert {\n",
              "      background-color: #3B4455;\n",
              "      fill: #D2E3FC;\n",
              "    }\n",
              "\n",
              "    [theme=dark] .colab-df-convert:hover {\n",
              "      background-color: #434B5C;\n",
              "      box-shadow: 0px 1px 3px 1px rgba(0, 0, 0, 0.15);\n",
              "      filter: drop-shadow(0px 1px 2px rgba(0, 0, 0, 0.3));\n",
              "      fill: #FFFFFF;\n",
              "    }\n",
              "  </style>\n",
              "\n",
              "      <script>\n",
              "        const buttonEl =\n",
              "          document.querySelector('#df-ebe25604-0e22-4b42-8634-4955e13937fc button.colab-df-convert');\n",
              "        buttonEl.style.display =\n",
              "          google.colab.kernel.accessAllowed ? 'block' : 'none';\n",
              "\n",
              "        async function convertToInteractive(key) {\n",
              "          const element = document.querySelector('#df-ebe25604-0e22-4b42-8634-4955e13937fc');\n",
              "          const dataTable =\n",
              "            await google.colab.kernel.invokeFunction('convertToInteractive',\n",
              "                                                     [key], {});\n",
              "          if (!dataTable) return;\n",
              "\n",
              "          const docLinkHtml = 'Like what you see? Visit the ' +\n",
              "            '<a target=\"_blank\" href=https://colab.research.google.com/notebooks/data_table.ipynb>data table notebook</a>'\n",
              "            + ' to learn more about interactive tables.';\n",
              "          element.innerHTML = '';\n",
              "          dataTable['output_type'] = 'display_data';\n",
              "          await google.colab.output.renderOutput(dataTable, element);\n",
              "          const docLink = document.createElement('div');\n",
              "          docLink.innerHTML = docLinkHtml;\n",
              "          element.appendChild(docLink);\n",
              "        }\n",
              "      </script>\n",
              "    </div>\n",
              "  </div>\n",
              "  "
            ]
          },
          "metadata": {},
          "execution_count": 4
        }
      ],
      "source": [
        "metadata.head()"
      ]
    },
    {
      "cell_type": "code",
      "execution_count": null,
      "metadata": {
        "colab": {
          "base_uri": "https://localhost:8080/"
        },
        "id": "aeUxt_oeICQm",
        "outputId": "fc0e614e-48e0-41d5-cf1b-d6e5a663a694"
      },
      "outputs": [
        {
          "output_type": "stream",
          "name": "stdout",
          "text": [
            "<class 'pandas.core.frame.DataFrame'>\n",
            "RangeIndex: 16941 entries, 0 to 16940\n",
            "Data columns (total 12 columns):\n",
            " #   Column            Non-Null Count  Dtype  \n",
            "---  ------            --------------  -----  \n",
            " 0   primary_label     16941 non-null  object \n",
            " 1   secondary_labels  16941 non-null  object \n",
            " 2   type              16941 non-null  object \n",
            " 3   latitude          16714 non-null  float64\n",
            " 4   longitude         16714 non-null  float64\n",
            " 5   scientific_name   16941 non-null  object \n",
            " 6   common_name       16941 non-null  object \n",
            " 7   author            16941 non-null  object \n",
            " 8   license           16941 non-null  object \n",
            " 9   rating            16941 non-null  float64\n",
            " 10  url               16941 non-null  object \n",
            " 11  filename          16941 non-null  object \n",
            "dtypes: float64(3), object(9)\n",
            "memory usage: 1.6+ MB\n"
          ]
        }
      ],
      "source": [
        "metadata.info()"
      ]
    },
    {
      "cell_type": "markdown",
      "metadata": {
        "id": "uWA-MaBCICQm"
      },
      "source": [
        "As we can see, we have a total of 16941 audio samples in our training data. The metadata has 12 columns."
      ]
    },
    {
      "cell_type": "code",
      "execution_count": null,
      "metadata": {
        "colab": {
          "base_uri": "https://localhost:8080/",
          "height": 297
        },
        "id": "G5bMHNsJICQm",
        "outputId": "4a135aa2-7fa7-4177-c66f-4fdc46498767"
      },
      "outputs": [
        {
          "output_type": "execute_result",
          "data": {
            "text/plain": [
              "           latitude     longitude        rating\n",
              "count  16714.000000  16714.000000  16941.000000\n",
              "mean      12.599897     22.035690      3.727732\n",
              "std       29.208254     28.743382      1.101060\n",
              "min      -38.116900   -157.819400      0.000000\n",
              "25%       -6.256000      5.941125      3.000000\n",
              "50%        2.359500     26.750650      4.000000\n",
              "75%       42.787100     36.589850      4.500000\n",
              "max       71.976900    177.684900      5.000000"
            ],
            "text/html": [
              "\n",
              "  <div id=\"df-20051ec3-ab57-4b7e-8969-42246450bb73\">\n",
              "    <div class=\"colab-df-container\">\n",
              "      <div>\n",
              "<style scoped>\n",
              "    .dataframe tbody tr th:only-of-type {\n",
              "        vertical-align: middle;\n",
              "    }\n",
              "\n",
              "    .dataframe tbody tr th {\n",
              "        vertical-align: top;\n",
              "    }\n",
              "\n",
              "    .dataframe thead th {\n",
              "        text-align: right;\n",
              "    }\n",
              "</style>\n",
              "<table border=\"1\" class=\"dataframe\">\n",
              "  <thead>\n",
              "    <tr style=\"text-align: right;\">\n",
              "      <th></th>\n",
              "      <th>latitude</th>\n",
              "      <th>longitude</th>\n",
              "      <th>rating</th>\n",
              "    </tr>\n",
              "  </thead>\n",
              "  <tbody>\n",
              "    <tr>\n",
              "      <th>count</th>\n",
              "      <td>16714.000000</td>\n",
              "      <td>16714.000000</td>\n",
              "      <td>16941.000000</td>\n",
              "    </tr>\n",
              "    <tr>\n",
              "      <th>mean</th>\n",
              "      <td>12.599897</td>\n",
              "      <td>22.035690</td>\n",
              "      <td>3.727732</td>\n",
              "    </tr>\n",
              "    <tr>\n",
              "      <th>std</th>\n",
              "      <td>29.208254</td>\n",
              "      <td>28.743382</td>\n",
              "      <td>1.101060</td>\n",
              "    </tr>\n",
              "    <tr>\n",
              "      <th>min</th>\n",
              "      <td>-38.116900</td>\n",
              "      <td>-157.819400</td>\n",
              "      <td>0.000000</td>\n",
              "    </tr>\n",
              "    <tr>\n",
              "      <th>25%</th>\n",
              "      <td>-6.256000</td>\n",
              "      <td>5.941125</td>\n",
              "      <td>3.000000</td>\n",
              "    </tr>\n",
              "    <tr>\n",
              "      <th>50%</th>\n",
              "      <td>2.359500</td>\n",
              "      <td>26.750650</td>\n",
              "      <td>4.000000</td>\n",
              "    </tr>\n",
              "    <tr>\n",
              "      <th>75%</th>\n",
              "      <td>42.787100</td>\n",
              "      <td>36.589850</td>\n",
              "      <td>4.500000</td>\n",
              "    </tr>\n",
              "    <tr>\n",
              "      <th>max</th>\n",
              "      <td>71.976900</td>\n",
              "      <td>177.684900</td>\n",
              "      <td>5.000000</td>\n",
              "    </tr>\n",
              "  </tbody>\n",
              "</table>\n",
              "</div>\n",
              "      <button class=\"colab-df-convert\" onclick=\"convertToInteractive('df-20051ec3-ab57-4b7e-8969-42246450bb73')\"\n",
              "              title=\"Convert this dataframe to an interactive table.\"\n",
              "              style=\"display:none;\">\n",
              "        \n",
              "  <svg xmlns=\"http://www.w3.org/2000/svg\" height=\"24px\"viewBox=\"0 0 24 24\"\n",
              "       width=\"24px\">\n",
              "    <path d=\"M0 0h24v24H0V0z\" fill=\"none\"/>\n",
              "    <path d=\"M18.56 5.44l.94 2.06.94-2.06 2.06-.94-2.06-.94-.94-2.06-.94 2.06-2.06.94zm-11 1L8.5 8.5l.94-2.06 2.06-.94-2.06-.94L8.5 2.5l-.94 2.06-2.06.94zm10 10l.94 2.06.94-2.06 2.06-.94-2.06-.94-.94-2.06-.94 2.06-2.06.94z\"/><path d=\"M17.41 7.96l-1.37-1.37c-.4-.4-.92-.59-1.43-.59-.52 0-1.04.2-1.43.59L10.3 9.45l-7.72 7.72c-.78.78-.78 2.05 0 2.83L4 21.41c.39.39.9.59 1.41.59.51 0 1.02-.2 1.41-.59l7.78-7.78 2.81-2.81c.8-.78.8-2.07 0-2.86zM5.41 20L4 18.59l7.72-7.72 1.47 1.35L5.41 20z\"/>\n",
              "  </svg>\n",
              "      </button>\n",
              "      \n",
              "  <style>\n",
              "    .colab-df-container {\n",
              "      display:flex;\n",
              "      flex-wrap:wrap;\n",
              "      gap: 12px;\n",
              "    }\n",
              "\n",
              "    .colab-df-convert {\n",
              "      background-color: #E8F0FE;\n",
              "      border: none;\n",
              "      border-radius: 50%;\n",
              "      cursor: pointer;\n",
              "      display: none;\n",
              "      fill: #1967D2;\n",
              "      height: 32px;\n",
              "      padding: 0 0 0 0;\n",
              "      width: 32px;\n",
              "    }\n",
              "\n",
              "    .colab-df-convert:hover {\n",
              "      background-color: #E2EBFA;\n",
              "      box-shadow: 0px 1px 2px rgba(60, 64, 67, 0.3), 0px 1px 3px 1px rgba(60, 64, 67, 0.15);\n",
              "      fill: #174EA6;\n",
              "    }\n",
              "\n",
              "    [theme=dark] .colab-df-convert {\n",
              "      background-color: #3B4455;\n",
              "      fill: #D2E3FC;\n",
              "    }\n",
              "\n",
              "    [theme=dark] .colab-df-convert:hover {\n",
              "      background-color: #434B5C;\n",
              "      box-shadow: 0px 1px 3px 1px rgba(0, 0, 0, 0.15);\n",
              "      filter: drop-shadow(0px 1px 2px rgba(0, 0, 0, 0.3));\n",
              "      fill: #FFFFFF;\n",
              "    }\n",
              "  </style>\n",
              "\n",
              "      <script>\n",
              "        const buttonEl =\n",
              "          document.querySelector('#df-20051ec3-ab57-4b7e-8969-42246450bb73 button.colab-df-convert');\n",
              "        buttonEl.style.display =\n",
              "          google.colab.kernel.accessAllowed ? 'block' : 'none';\n",
              "\n",
              "        async function convertToInteractive(key) {\n",
              "          const element = document.querySelector('#df-20051ec3-ab57-4b7e-8969-42246450bb73');\n",
              "          const dataTable =\n",
              "            await google.colab.kernel.invokeFunction('convertToInteractive',\n",
              "                                                     [key], {});\n",
              "          if (!dataTable) return;\n",
              "\n",
              "          const docLinkHtml = 'Like what you see? Visit the ' +\n",
              "            '<a target=\"_blank\" href=https://colab.research.google.com/notebooks/data_table.ipynb>data table notebook</a>'\n",
              "            + ' to learn more about interactive tables.';\n",
              "          element.innerHTML = '';\n",
              "          dataTable['output_type'] = 'display_data';\n",
              "          await google.colab.output.renderOutput(dataTable, element);\n",
              "          const docLink = document.createElement('div');\n",
              "          docLink.innerHTML = docLinkHtml;\n",
              "          element.appendChild(docLink);\n",
              "        }\n",
              "      </script>\n",
              "    </div>\n",
              "  </div>\n",
              "  "
            ]
          },
          "metadata": {},
          "execution_count": 7
        }
      ],
      "source": [
        "metadata.describe()"
      ]
    },
    {
      "cell_type": "markdown",
      "metadata": {
        "id": "dyNp9oqoICQm"
      },
      "source": [
        "### Primary labels"
      ]
    },
    {
      "cell_type": "code",
      "execution_count": null,
      "metadata": {
        "colab": {
          "base_uri": "https://localhost:8080/"
        },
        "id": "zKYERk3DICQn",
        "outputId": "5a51d1e9-5c4b-4840-8dac-8de90ee23889"
      },
      "outputs": [
        {
          "output_type": "stream",
          "name": "stdout",
          "text": [
            "Number of unique labels: 264\n"
          ]
        }
      ],
      "source": [
        "label_counts = metadata['primary_label'].value_counts()\n",
        "label_counts_sorted = label_counts.sort_values(ascending=False)  # Sort the label counts in descending order\n",
        "num_labels = len(label_counts)\n",
        "print(\"Number of unique labels:\", num_labels)"
      ]
    },
    {
      "cell_type": "code",
      "execution_count": null,
      "metadata": {
        "colab": {
          "base_uri": "https://localhost:8080/",
          "height": 550
        },
        "id": "T1cNRj4TICQn",
        "outputId": "4a7fb0e8-1ae3-47e7-8adb-201ce5897bba"
      },
      "outputs": [
        {
          "output_type": "display_data",
          "data": {
            "text/plain": [
              "<Figure size 1200x600 with 1 Axes>"
            ],
            "image/png": "[encoded data removed]"
          },
          "metadata": {}
        }
      ],
      "source": [
        "import matplotlib.pyplot as plt\n",
        "import seaborn as sns\n",
        "\n",
        "plt.figure(figsize=(12, 6))\n",
        "ax = sns.countplot(data=metadata, x='primary_label', order=label_counts_sorted.index, palette='Blues_d')\n",
        "\n",
        "# Remove x-axis labels\n",
        "ax.set_xticklabels([])\n",
        "\n",
        "# Reduce number of bins\n",
        "num_ticks = 10  # Set the desired number of ticks on the x-axis\n",
        "step = len(label_counts_sorted) // num_ticks\n",
        "\n",
        "\n",
        "plt.xlabel('Bird Species')\n",
        "plt.ylabel('Count')\n",
        "plt.title('Distribution of Audio Samples (Sorted)')\n",
        "plt.xticks(rotation=90)\n",
        "plt.show()"
      ]
    },
    {
      "cell_type": "markdown",
      "metadata": {
        "id": "UyiFb6RdICQn"
      },
      "source": [
        "The available train data is distributed very unequal. Some bird species have over 500 audio samples whereas some only have 1."
      ]
    },
    {
      "cell_type": "code",
      "execution_count": null,
      "metadata": {
        "colab": {
          "base_uri": "https://localhost:8080/",
          "height": 749
        },
        "id": "40HAqvjKICQo",
        "outputId": "7db63b21-dd86-497d-cc68-1305e13d0ae6"
      },
      "outputs": [
        {
          "output_type": "stream",
          "name": "stdout",
          "text": [
            "Count Percentiles:\n",
            "count    264.000000\n",
            "mean      64.170455\n",
            "std       98.757285\n",
            "min        1.000000\n",
            "25%       14.750000\n",
            "50%       29.500000\n",
            "75%       70.500000\n",
            "max      500.000000\n",
            "Name: primary_label, dtype: float64\n"
          ]
        },
        {
          "output_type": "display_data",
          "data": {
            "text/plain": [
              "<Figure size 1000x600 with 1 Axes>"
            ],
            "image/png": "[encoded data removed]"
          },
          "metadata": {}
        }
      ],
      "source": [
        "# Describe and percentiles\n",
        "percentiles = label_counts.describe(percentiles=[0.25, 0.50, 0.75])\n",
        "print(\"Count Percentiles:\")\n",
        "print(percentiles)\n",
        "\n",
        "# Plot percentiles using seaborn (horizontal box plot)\n",
        "plt.figure(figsize=(10, 6))\n",
        "sns.boxplot(data=label_counts, orient='h', width=0.5)\n",
        "plt.xlabel('Count of Audio Samples')\n",
        "plt.ylabel('Bird Species')\n",
        "plt.title('Box Plot of Count Distribution')\n",
        "plt.xticks(rotation=45)\n",
        "plt.xlim(left=0)  # Set the left x-axis limit to 0\n",
        "plt.show()"
      ]
    },
    {
      "cell_type": "markdown",
      "metadata": {
        "id": "w3vKkEvzICQo"
      },
      "source": [
        "The 264 bird species have on average around 64 sound samples. 75% of the dataset has 14 or more samples."
      ]
    },
    {
      "cell_type": "code",
      "execution_count": null,
      "metadata": {
        "colab": {
          "base_uri": "https://localhost:8080/",
          "height": 632
        },
        "id": "E0aSqsJYICQo",
        "outputId": "fb297469-552f-495c-a3dc-230800a8c530"
      },
      "outputs": [
        {
          "output_type": "stream",
          "name": "stdout",
          "text": [
            "Number of bird labels with count below 5: 17\n"
          ]
        },
        {
          "output_type": "display_data",
          "data": {
            "text/plain": [
              "<Figure size 1200x600 with 1 Axes>"
            ],
            "image/png": "[encoded data removed]"
          },
          "metadata": {}
        }
      ],
      "source": [
        "label_counts = metadata['primary_label'].value_counts()\n",
        "birds_below_count_5 = label_counts[label_counts < 5].sort_values(ascending=False)\n",
        "\n",
        "print(\"Number of bird labels with count below 5:\", len(birds_below_count_5))\n",
        "\n",
        "plt.figure(figsize=(12, 6))\n",
        "sns.barplot(x=birds_below_count_5.index, y=birds_below_count_5.values, palette='Blues_d')\n",
        "plt.xlabel('Primary Label')\n",
        "plt.ylabel('Count')\n",
        "plt.title('Birds with Count Below 5')\n",
        "plt.xticks(rotation=90)\n",
        "plt.show()"
      ]
    },
    {
      "cell_type": "markdown",
      "metadata": {
        "id": "zSFgFFDpICQp"
      },
      "source": [
        "Additionally had a look into the species with less than 5 audio samples."
      ]
    },
    {
      "cell_type": "markdown",
      "metadata": {
        "id": "WGAWN27GICQp"
      },
      "source": [
        "### Secondary labels\n",
        " Background species as annotated by the recordist."
      ]
    },
    {
      "cell_type": "code",
      "execution_count": null,
      "metadata": {
        "colab": {
          "base_uri": "https://localhost:8080/"
        },
        "id": "iMn61OxUICQp",
        "outputId": "3db9ad86-4bb4-44de-ef19-a02f7da49c06"
      },
      "outputs": [
        {
          "output_type": "stream",
          "name": "stdout",
          "text": [
            "Number of rows with secondary labels: 2305\n",
            "13.61 % of the audio samples have secondary labels.\n"
          ]
        }
      ],
      "source": [
        "# Count the number of rows with non-empty secondary labels\n",
        "rows_with_secondary_labels = metadata[metadata['secondary_labels'] != '[]']\n",
        "num_rows_with_secondary_labels = len(rows_with_secondary_labels)\n",
        "\n",
        "print(\"Number of rows with secondary labels:\", num_rows_with_secondary_labels)\n",
        "print(\"{} % of the audio samples have secondary labels.\".format(round((num_rows_with_secondary_labels/len(metadata)*100),2)))"
      ]
    },
    {
      "cell_type": "code",
      "execution_count": null,
      "metadata": {
        "colab": {
          "base_uri": "https://localhost:8080/"
        },
        "id": "xo6sA5IBICQp",
        "outputId": "3a6f3e79-49f2-4841-e3cf-a7e6d2f0ea33"
      },
      "outputs": [
        {
          "output_type": "stream",
          "name": "stdout",
          "text": [
            "Different number of birds in secondary labels:\n",
            "Additional bird species existent in the audio sample: 1, Audio Samples: 1520\n",
            "Additional bird species existent in the audio sample: 2, Audio Samples: 564\n",
            "Additional bird species existent in the audio sample: 3, Audio Samples: 164\n",
            "Additional bird species existent in the audio sample: 4, Audio Samples: 39\n",
            "Additional bird species existent in the audio sample: 5, Audio Samples: 11\n",
            "Additional bird species existent in the audio sample: 6, Audio Samples: 4\n",
            "Additional bird species existent in the audio sample: 8, Audio Samples: 1\n",
            "Additional bird species existent in the audio sample: 7, Audio Samples: 1\n",
            "Additional bird species existent in the audio sample: 9, Audio Samples: 1\n"
          ]
        }
      ],
      "source": [
        "# Filter the DataFrame to include only rows with non-empty secondary labels\n",
        "rows_with_secondary_labels = metadata[metadata['secondary_labels'] != '[]']\n",
        "\n",
        "# Extract the secondary labels as lists\n",
        "secondary_labels_lists = rows_with_secondary_labels['secondary_labels'].apply(eval)\n",
        "\n",
        "# Get unique lengths of secondary labels where length > 0 and their count\n",
        "unique_lengths, lengths_counts = secondary_labels_lists.apply(len).value_counts().index, secondary_labels_lists.apply(len).value_counts().values\n",
        "\n",
        "print(\"Different number of birds in secondary labels:\")\n",
        "for length, count in zip(unique_lengths, lengths_counts):\n",
        "    print(f\"Additional bird species existent in the audio sample: {length}, Audio Samples: {count}\")"
      ]
    },
    {
      "cell_type": "markdown",
      "metadata": {
        "id": "GSkSeA7dICQp"
      },
      "source": [
        "The number of background species in the audio samples ranges from 0 to 9."
      ]
    },
    {
      "cell_type": "code",
      "execution_count": null,
      "metadata": {
        "colab": {
          "base_uri": "https://localhost:8080/"
        },
        "id": "2BNrlusHICQq",
        "outputId": "696caa2a-1b9b-46e6-8293-a88f7b4da837"
      },
      "outputs": [
        {
          "output_type": "stream",
          "name": "stdout",
          "text": [
            "Labels in Secondary Labels and their Value Counts:\n",
            "combul2    349\n",
            "rindov     200\n",
            "somgre1    152\n",
            "grbcam1    130\n",
            "laudov1    100\n",
            "          ... \n",
            "afpkin1      1\n",
            "loceag1      1\n",
            "gyhneg1      1\n",
            "darter3      1\n",
            "refbar2      1\n",
            "Name: secondary_labels, Length: 195, dtype: int64\n"
          ]
        }
      ],
      "source": [
        "# Filter the DataFrame to include only rows with non-empty secondary labels\n",
        "rows_with_secondary_labels = metadata[metadata['secondary_labels'] != '[]']\n",
        "\n",
        "# Calculate value counts of secondary labels\n",
        "label_counts = rows_with_secondary_labels['secondary_labels'].apply(eval).explode().value_counts()\n",
        "\n",
        "print(\"Labels in Secondary Labels and their Value Counts:\")\n",
        "print(label_counts)"
      ]
    },
    {
      "cell_type": "markdown",
      "metadata": {
        "id": "l1U2AiMJICQq"
      },
      "source": [
        "There are 195 different background species in the secondary labels. The number of occurences is widely spread from 1 to 349. However, an empty list in the secondary label column does not mean that there are no background species. Therefore, this has little information value for us.\n",
        "\n"
      ]
    },
    {
      "cell_type": "markdown",
      "metadata": {
        "id": "cwVLlDXIICQq"
      },
      "source": [
        "### Type"
      ]
    },
    {
      "cell_type": "code",
      "execution_count": null,
      "metadata": {
        "colab": {
          "base_uri": "https://localhost:8080/"
        },
        "id": "RUbpzH4bICQq",
        "outputId": "79cb6e07-2d4c-4296-ea0c-85d9164d5b24"
      },
      "outputs": [
        {
          "output_type": "execute_result",
          "data": {
            "text/plain": [
              "['song']                                                       4102\n",
              "['call']                                                       3987\n",
              "['']                                                           1776\n",
              "['flight call']                                                1139\n",
              "['call', 'song']                                                527\n",
              "                                                               ... \n",
              "['aggressive calls', 'call']                                      1\n",
              "['adult', 'duet', 'song']                                         1\n",
              "['adult', 'call', 'nocturnal flight call', 'sex uncertain']       1\n",
              "['dawn song', 'life stage uncertain', 'male', 'song']             1\n",
              "['demonstrative tapping', 'male']                                 1\n",
              "Name: type, Length: 796, dtype: int64"
            ]
          },
          "metadata": {},
          "execution_count": 15
        }
      ],
      "source": [
        "metadata['type'].value_counts()"
      ]
    },
    {
      "cell_type": "code",
      "execution_count": null,
      "metadata": {
        "colab": {
          "base_uri": "https://localhost:8080/"
        },
        "id": "29Msr_CkICQr",
        "outputId": "f45411c8-fd21-497d-c97c-e431a2b77ca4"
      },
      "outputs": [
        {
          "output_type": "stream",
          "name": "stdout",
          "text": [
            "Number of rows with type labels: 15165\n",
            "89.52 % of the audio samples have type labels.\n"
          ]
        }
      ],
      "source": [
        "# Count the number of rows with empty type labels secondary labels\n",
        "rows_with_type_labels = metadata[metadata['type'] != \"['']\"]\n",
        "num_rows_with_type_labels = len(rows_with_type_labels)\n",
        "\n",
        "print(\"Number of rows with type labels:\", num_rows_with_type_labels)\n",
        "print(\"{} % of the audio samples have type labels.\".format(round((num_rows_with_type_labels/len(metadata)*100),2)))"
      ]
    },
    {
      "cell_type": "code",
      "execution_count": null,
      "metadata": {
        "colab": {
          "base_uri": "https://localhost:8080/"
        },
        "id": "wk9vexrDICQr",
        "outputId": "dde1b605-f7e6-4fc3-8100-6b104c93e9d4"
      },
      "outputs": [
        {
          "output_type": "stream",
          "name": "stdout",
          "text": [
            "Different number of type labels per audio sample:\n",
            "Number of type labels: 1, Audio Samples: 10097\n",
            "Number of type labels: 2, Audio Samples: 2656\n",
            "Number of type labels: 3, Audio Samples: 1810\n",
            "Number of type labels: 4, Audio Samples: 423\n",
            "Number of type labels: 5, Audio Samples: 155\n",
            "Number of type labels: 6, Audio Samples: 14\n",
            "Number of type labels: 7, Audio Samples: 7\n",
            "Number of type labels: 8, Audio Samples: 3\n"
          ]
        }
      ],
      "source": [
        "# Filter the DataFrame to include only rows with non-empty secondary labels\n",
        "rows_with_type_labels = metadata[metadata['type'] != \"['']\"]\n",
        "\n",
        "# Extract the secondary labels as lists\n",
        "secondary_labels_lists = rows_with_type_labels['type'].apply(eval)\n",
        "\n",
        "# Get unique lengths of secondary labels where length > 0 and their count\n",
        "unique_lengths, lengths_counts = secondary_labels_lists.apply(len).value_counts().index, secondary_labels_lists.apply(len).value_counts().values\n",
        "\n",
        "print(\"Different number of type labels per audio sample:\")\n",
        "for length, count in zip(unique_lengths, lengths_counts):\n",
        "    print(f\"Number of type labels: {length}, Audio Samples: {count}\")"
      ]
    },
    {
      "cell_type": "code",
      "execution_count": null,
      "metadata": {
        "colab": {
          "base_uri": "https://localhost:8080/"
        },
        "id": "kbrZsR3pICQr",
        "outputId": "f47842a3-be9e-461b-8db5-1d84fcfe2bd3"
      },
      "outputs": [
        {
          "output_type": "stream",
          "name": "stdout",
          "text": [
            "Types and their Value Counts:\n",
            "call                     6808\n",
            "song                     6411\n",
            "flight call              2235\n",
            "adult                    1880\n",
            "male                     1433\n",
            "                         ... \n",
            "long whistles               1\n",
            "aggressive calls            1\n",
            "anthropogenic:: rain        1\n",
            "long call                   1\n",
            "demonstrative tapping       1\n",
            "Name: type, Length: 399, dtype: int64\n"
          ]
        }
      ],
      "source": [
        "# Filter the DataFrame to include only rows with non-empty secondary labels\n",
        "rows_with_type_labels = metadata[metadata['type'] != \"['']\"]\n",
        "\n",
        "# Calculate value counts of secondary labels\n",
        "label_counts = rows_with_type_labels['type'].apply(eval).explode().value_counts()\n",
        "\n",
        "print(\"Types and their Value Counts:\")\n",
        "print(label_counts)"
      ]
    },
    {
      "cell_type": "markdown",
      "metadata": {
        "id": "uKbiij40ICQr"
      },
      "source": [
        "There are 399 different sound types."
      ]
    },
    {
      "cell_type": "code",
      "execution_count": null,
      "metadata": {
        "colab": {
          "base_uri": "https://localhost:8080/"
        },
        "id": "_WtJH3rSICQs",
        "outputId": "c26e7ea3-0396-49fc-a6dc-c27d8b028d35"
      },
      "outputs": [
        {
          "output_type": "stream",
          "name": "stdout",
          "text": [
            "Types with Count Below 5:\n",
            "two-note call            4\n",
            "Nocturnal flight call    4\n",
            "courtship call           4\n",
            "Alarm call               4\n",
            "aggressive call          4\n",
            "                        ..\n",
            "long whistles            1\n",
            "aggressive calls         1\n",
            "anthropogenic:: rain     1\n",
            "long call                1\n",
            "demonstrative tapping    1\n",
            "Name: type, Length: 348, dtype: int64\n",
            "\n",
            "Types with Count Below 2:\n",
            "intraspecific agressive call    1\n",
            "mystery sound                   1\n",
            "bill-snapping                   1\n",
            "Bill snapping                   1\n",
            "Lockruf                         1\n",
            "                               ..\n",
            "long whistles                   1\n",
            "aggressive calls                1\n",
            "anthropogenic:: rain            1\n",
            "long call                       1\n",
            "demonstrative tapping           1\n",
            "Name: type, Length: 266, dtype: int64\n"
          ]
        }
      ],
      "source": [
        "# Filter types with count below 5\n",
        "types_below_count_5 = label_counts[label_counts < 5]\n",
        "\n",
        "print(\"Types with Count Below 5:\")\n",
        "print(types_below_count_5)\n",
        "print(\"\")\n",
        "\n",
        "# Filter types with count below 5\n",
        "types_below_count_2 = label_counts[label_counts < 2]\n",
        "\n",
        "print(\"Types with Count Below 2:\")\n",
        "print(types_below_count_2)"
      ]
    },
    {
      "cell_type": "markdown",
      "metadata": {
        "id": "P2QDUMz4ICQs"
      },
      "source": [
        "We can see that the type data is very heterogenous: For example, the \"Bill snapping\" is written different or the language is not english (\"Lockruf\").\n",
        "\n",
        "Filtering the dataset by the sound type will be difficult due to the high number of distinct types."
      ]
    },
    {
      "cell_type": "markdown",
      "metadata": {
        "id": "HSu7mpnaICQt"
      },
      "source": [
        "### Rating\n",
        "\n",
        "Float value between 0.0 and 5.0 as an indicator of the quality rating on Xeno-canto and the number of background species, where 5.0 is the highest and 1.0 is the lowest. 0.0 means that this recording has no user rating yet."
      ]
    },
    {
      "cell_type": "code",
      "execution_count": null,
      "metadata": {
        "colab": {
          "base_uri": "https://localhost:8080/"
        },
        "id": "kn_MwrR7ICQt",
        "outputId": "693c39e0-f482-4983-be11-895cfd3970de"
      },
      "outputs": [
        {
          "output_type": "stream",
          "name": "stdout",
          "text": [
            "Number of ratings: 11\n"
          ]
        }
      ],
      "source": [
        "label_counts = metadata['rating'].value_counts()\n",
        "label_counts_sorted = label_counts.sort_index() # Sort the label counts in descending order\n",
        "num_labels = len(label_counts)\n",
        "print(\"Number of ratings:\", num_labels)\n"
      ]
    },
    {
      "cell_type": "code",
      "execution_count": null,
      "metadata": {
        "colab": {
          "base_uri": "https://localhost:8080/",
          "height": 776
        },
        "id": "w7VUr9M9ICQu",
        "outputId": "bace2483-b322-446f-c8d2-53ce08996041"
      },
      "outputs": [
        {
          "output_type": "display_data",
          "data": {
            "text/plain": [
              "<Figure size 1200x600 with 1 Axes>"
            ],
            "image/png": "[encoded data removed]"
          },
          "metadata": {}
        },
        {
          "output_type": "stream",
          "name": "stdout",
          "text": [
            "0.0     514\n",
            "0.5      28\n",
            "1.0     112\n",
            "1.5     174\n",
            "2.0     533\n",
            "2.5     960\n",
            "3.0    2314\n",
            "3.5    2354\n",
            "4.0    4895\n",
            "4.5    1495\n",
            "5.0    3562\n",
            "Name: rating, dtype: int64\n"
          ]
        }
      ],
      "source": [
        "plt.figure(figsize=(12, 6))\n",
        "sns.countplot(data=metadata, x='rating', order=label_counts_sorted.index, palette='Blues_d')  # Specify the order of the labels\n",
        "plt.xlabel('Primary Label')\n",
        "plt.ylabel('Count')\n",
        "plt.title('Distribution of Primary Labels (Sorted)')\n",
        "plt.xticks(rotation=90)\n",
        "plt.show()\n",
        "print(label_counts_sorted)"
      ]
    },
    {
      "cell_type": "code",
      "execution_count": null,
      "metadata": {
        "colab": {
          "base_uri": "https://localhost:8080/",
          "height": 564
        },
        "id": "pHCdNXDBICQu",
        "outputId": "73ed3c31-923f-4a23-de58-38b83acfb8db"
      },
      "outputs": [
        {
          "output_type": "display_data",
          "data": {
            "text/plain": [
              "<Figure size 800x600 with 1 Axes>"
            ],
            "image/png": "[encoded data removed]"
          },
          "metadata": {}
        }
      ],
      "source": [
        "plt.figure(figsize=(8, 6))\n",
        "sns.boxplot(data=metadata, x='rating')\n",
        "plt.xlabel('Rating')\n",
        "plt.ylabel('Frequency')\n",
        "plt.title('Rating Distribution')\n",
        "plt.show()"
      ]
    },
    {
      "cell_type": "markdown",
      "metadata": {
        "id": "5GXg28JzICQu"
      },
      "source": [
        "The rating would be a useful filter for data cleaning. However, since the rating 0.0 indicates not low quality but that a rating is not existent, we will lose a lot of information by excluding audio samples of a certain rating. Therefore, we will not use the rating as a filter for data cleaning."
      ]
    },
    {
      "cell_type": "markdown",
      "metadata": {
        "id": "L6ugNNYqICQv"
      },
      "source": [
        "## Data Preprocessing"
      ]
    },
    {
      "cell_type": "code",
      "execution_count": null,
      "metadata": {
        "id": "g-wxu4WYICQv"
      },
      "outputs": [],
      "source": [
        "class AudioPreprocessor:\n",
        "    def __init__(self, sample_rate=32000, target_sample_rate=16000, audio_length=654170, top_db=20,\n",
        "                 noise_reduction=True, trim_silence=True, normalize=True):\n",
        "        \"\"\"\n",
        "            Initialize the AudioPreprocessor object with the specified parameters.\n",
        "\n",
        "        Args:\n",
        "            sample_rate (int, optional): The sample rate of the audio. Defaults to 32000.\n",
        "            target_sample_rate (int, optional): The target sample rate after resampling. Defaults to 16000.\n",
        "            audio_length (int, optional): The desired length of the audio. Defaults to 654170.\n",
        "            top_db (int, optional): The threshold in decibels below reference to consider as silence. Defaults to 20.\n",
        "            noise_reduction (bool, optional): Whether to perform noise reduction. Defaults to True.\n",
        "            trim_silence (bool, optional): Whether to trim silence from the audio. Defaults to True.\n",
        "            normalize (bool, optional): Whether to normalize the audio. Defaults to True.\n",
        "        \"\"\"                 \n",
        "        self.sample_rate = sample_rate\n",
        "        self.target_sample_rate = target_sample_rate\n",
        "        self.audio_length = audio_length\n",
        "        self.top_db = top_db\n",
        "        self.noise_reduction = noise_reduction\n",
        "        self.trim_silence = trim_silence\n",
        "        self.normalize = normalize\n",
        "\n",
        "\n",
        "    def preprocess_audio_mel(self, file_path, n_mels=64, resample=True, snippet_duration=None, audio=None):\n",
        "        \"\"\"\n",
        "        Preprocesses audio by loading, resampling, applying noise reduction, trimming silence,\n",
        "        normalizing, and converting it to a mel spectrogram in decibel scale.\n",
        "\n",
        "        Args:\n",
        "            file_path (str): The path to the audio file.\n",
        "            n_mels (int, optional): The number of mel bands to generate. Defaults to 64.\n",
        "            resample (bool, optional): Whether to resample the audio. Defaults to True.\n",
        "            snippet_duration (float, optional): The duration in seconds of the audio snippet to extract. Defaults to None.\n",
        "            audio (ndarray, optional): Preloaded audio data. Defaults to None.\n",
        "\n",
        "        Returns:\n",
        "            ndarray: Mel spectrogram in decibel scale.\n",
        "        \"\"\"         \n",
        "        if audio is None:\n",
        "            audio, _ = librosa.load(file_path, sr=self.sample_rate, mono=True)\n",
        "\n",
        "        if resample:\n",
        "            audio = librosa.resample(audio, orig_sr=self.sample_rate, target_sr=self.target_sample_rate)\n",
        "        sample_rate = self.target_sample_rate\n",
        "\n",
        "        if self.noise_reduction:\n",
        "            audio = nr.reduce_noise(y=audio, sr=sample_rate, y_noise=audio[:int(sample_rate * 2)], n_jobs=-1)\n",
        "\n",
        "        if self.trim_silence:\n",
        "            audio, _ = librosa.effects.trim(audio, top_db=self.top_db)\n",
        "\n",
        "        if snippet_duration is not None:\n",
        "            if len(audio) < (snippet_duration * sample_rate):\n",
        "                audio = librosa.util.pad_center(data=audio, size=(snippet_duration * sample_rate))\n",
        "            else:\n",
        "                audio = audio[:(snippet_duration * sample_rate)]\n",
        "        else:\n",
        "            audio = np.pad(audio[:self.audio_length], (0, max(0, self.audio_length - len(audio))), 'constant')\n",
        "\n",
        "        if self.normalize:\n",
        "            audio = librosa.util.normalize(audio)\n",
        "\n",
        "        spectrogram = librosa.feature.melspectrogram(y=audio, sr=sample_rate, n_mels=n_mels)\n",
        "        spectrogram_db = librosa.power_to_db(spectrogram, ref=np.max)\n",
        "\n",
        "        return spectrogram_db\n",
        "    \n",
        "    def oversample(self, audio, technique):\n",
        "        \"\"\"\n",
        "        Performs audio oversampling using different techniques such as time stretching,\n",
        "        pitch shifting, adding noise, and time shifting.\n",
        "\n",
        "        Args:\n",
        "            audio (ndarray): Audio data\n",
        "            technique (str): The oversampling technique to apply\n",
        "\n",
        "        Raises:\n",
        "            ValueError: Oversample technique not recognized\n",
        "\n",
        "        Returns:\n",
        "            ndarray: The oversampled audio data\n",
        "        \"\"\"        \n",
        "        if technique == 'time_stretch':\n",
        "            rate = np.random.uniform(0.8, 1.2)\n",
        "            return librosa.effects.time_stretch(audio, rate=rate)\n",
        "        elif technique == 'pitch_shift':\n",
        "            n_steps = np.random.randint(-3, 4)\n",
        "            return librosa.effects.pitch_shift(audio, sr=self.target_sample_rate, n_steps=n_steps)\n",
        "        elif technique == 'add_noise':\n",
        "            noise = np.random.randn(len(audio))\n",
        "            return audio + 0.05 * noise\n",
        "        elif technique == 'time_shift':\n",
        "            shift = np.random.randint(-80000, 80000)\n",
        "            return np.roll(audio, shift)\n",
        "        else:\n",
        "            raise ValueError('Oversample technique not recognized')\n",
        "\n",
        "\n",
        "    def preprocess(self, path_metadata, path_audio_files, n_mels=64,\n",
        "                   oversample_technique=None, target_samples=None):\n",
        "        \"\"\"\n",
        "        Preprocesses audio files based on the provided metadata and audio file paths.\n",
        "\n",
        "        Args:\n",
        "            path_metadata (str): The path to the metadata file (CSV format)\n",
        "            path_audio_files (str): The path to the directory containing audio files\n",
        "            n_mels (int, optional): The number of mel bands to generate. Defaults to 64.\n",
        "            oversample_technique (str, optional): The oversampling technique to apply. Defaults to None.\n",
        "            target_samples (int, optional): The target number of samples per class. Defaults to None.\n",
        "\n",
        "        Returns:\n",
        "            DataFrame: The preprocessed audio features in a DataFrame\n",
        "        \"\"\"        \n",
        "        metadata = pd.read_csv(path_metadata)\n",
        "        features_list = []\n",
        "\n",
        "        for species, group_df in tqdm(metadata.groupby('common_name'), desc='Processing'):\n",
        "            num_samples = len(group_df)\n",
        "\n",
        "            for _, row in group_df.iterrows():\n",
        "                file_path = os.path.join(path_audio_files, row['filename'])\n",
        "\n",
        "                if os.path.isfile(file_path):\n",
        "                    spectrogram_db = self.preprocess_audio_mel(file_path, n_mels)\n",
        "                    features_list.append({'common_name': species, 'filename': row['filename'], 'features': spectrogram_db})\n",
        "\n",
        "            techniques = ['time_stretch', 'pitch_shift', 'add_noise', 'time_shift', 'change_vol']\n",
        "            if oversample_technique in techniques and num_samples < target_samples:\n",
        "                num_oversamples = min(target_samples - num_samples, target_samples)\n",
        "                selected_samples = np.random.choice(group_df['filename'], num_oversamples, replace=True)\n",
        "\n",
        "                for sample in selected_samples:\n",
        "                    file_path = os.path.join(path_audio_files, sample)\n",
        "                    audio, _ = librosa.load(file_path, sr=self.sample_rate, mono=True)\n",
        "                    transformed_audio = self.oversample(audio, oversample_technique)\n",
        "                    spectrogram_db = self.preprocess_audio_mel(file_path=None, n_mels=n_mels, audio=transformed_audio)\n",
        "                    features_list.append({'common_name': species, 'filename': sample, 'features': spectrogram_db})\n",
        "\n",
        "        df = pd.DataFrame(features_list)\n",
        "        return df\n",
        "\n",
        "\n",
        "    def preprocess_snippets(self, path_metadata, path_audio_files, snippet_duration=None):\n",
        "        \"\"\"\n",
        "        Preprocesses audio snippets based on the provided metadata.\n",
        "\n",
        "        Args:\n",
        "            audio_path (str): The path to the directory containing the audio files.\n",
        "            meta_data (pd.DataFrame): DataFrame containing metadata for the audio snippets.\n",
        "            snippet_duration (float, optional): The duration of each audio snippet in seconds. Defaults to None.\n",
        "\n",
        "        Returns:\n",
        "            pd.DataFrame: A DataFrame containing the preprocessed audio snippets and corresponding metadata.\n",
        "        \"\"\"         \n",
        "        new_rows = []\n",
        "        metadata = pd.read_csv(path_metadata)\n",
        "\n",
        "        for _, row in metadata.iterrows():\n",
        "            filename = os.path.join(path_audio_files, row['filename'])\n",
        "\n",
        "            audio, _ = librosa.load(filename, sr=32000, mono=True)\n",
        "            audio = librosa.resample(audio, orig_sr=32000, target_sr=16000)\n",
        "\n",
        "            if snippet_duration is not None:\n",
        "\n",
        "                samples_per_snippet = int(16000 * snippet_duration)\n",
        "\n",
        "                num_snippets = len(audio) // samples_per_snippet\n",
        "                snippets = []\n",
        "                for i in range(num_snippets):\n",
        "                    start = i * samples_per_snippet\n",
        "                    end = start + samples_per_snippet\n",
        "                    snippet = audio[start:end]\n",
        "                    snippets.append(snippet)\n",
        "\n",
        "                snippets = np.array(snippets)\n",
        "            else:\n",
        "                snippets = np.array(audio)\n",
        "                \n",
        "            snippet_rows = []\n",
        "            \n",
        "            for snippet in snippets:       \n",
        "                snippet_rows.append({\n",
        "                    'primary_label': row['primary_label'],\n",
        "                    'secondary_labels': row['secondary_labels'],\n",
        "                    'type': row['type'],\n",
        "                    'latitude': row['latitude'],\n",
        "                    'longitude': row['longitude'],\n",
        "                    'scientific_name': row['scientific_name'],\n",
        "                    'common_name': row['common_name'],\n",
        "                    'author': row['author'],\n",
        "                    'license': row['license'],\n",
        "                    'rating': row['rating'],\n",
        "                    'url': row['url'],\n",
        "                    'filename': row['filename'],\n",
        "                    'features': self.preprocess_audio_mel(file_path=None,\n",
        "                                                          audio=snippet,\n",
        "                                                          n_mels=64,\n",
        "                                                          resample=False,\n",
        "                                                          snippet_duration=snippet_duration),\n",
        "                    })\n",
        "            new_rows.extend(snippet_rows)\n",
        "        \n",
        "        df = pd.DataFrame(new_rows)\n",
        "        return df"
      ]
    },
    {
      "cell_type": "markdown",
      "metadata": {
        "id": "J44DFl1jICQw"
      },
      "source": [
        "### Filtering and Train-Test Split"
      ]
    },
    {
      "cell_type": "code",
      "execution_count": null,
      "metadata": {
        "id": "_WpTjIxfICQw"
      },
      "outputs": [],
      "source": [
        "# filter for classes with more than 10 samples\n",
        "class_counts = metadata['common_name'].value_counts()\n",
        "valid_classes = class_counts[class_counts > 10].index\n",
        "metadata = metadata[metadata['common_name'].isin(valid_classes)]\n",
        "\n",
        "\n",
        "# split metadata into train and test\n",
        "meta_train, meta_test = train_test_split(metadata, test_size=0.2, shuffle=True, stratify=metadata['common_name'])\n",
        "\n",
        "meta_train.to_csv('./data/train/metadata_train.csv')\n",
        "meta_test.to_csv('./data/test/metadata_test.csv')"
      ]
    },
    {
      "cell_type": "markdown",
      "metadata": {
        "id": "6wM5vhHvICQw"
      },
      "source": [
        "### Initiating Preprocessor"
      ]
    },
    {
      "cell_type": "code",
      "execution_count": null,
      "metadata": {
        "id": "JfQw7tUDICQw"
      },
      "outputs": [],
      "source": [
        "path_audio_files = './data/audio'\n",
        "\n",
        "ap = AudioPreprocessor(sample_rate=32000, target_sample_rate=16000, audio_length=654170,\n",
        "                       top_db=20, noise_reduction=True, trim_silence=True, normalize=True)"
      ]
    },
    {
      "cell_type": "markdown",
      "metadata": {
        "id": "YzBYgjahICQx"
      },
      "source": [
        "### Preprocessing"
      ]
    },
    {
      "cell_type": "markdown",
      "metadata": {
        "id": "jDeMWhiPICQx"
      },
      "source": [
        "Train and test data is preprocessed. Oversampling technique and target sample can be specified."
      ]
    },
    {
      "cell_type": "code",
      "execution_count": null,
      "metadata": {
        "id": "XDOVKO2jICQx"
      },
      "outputs": [],
      "source": [
        "# df_train = ap.preprocess(path_metadata, path_audio_files, n_mels=64,\n",
        "#                          oversample_technique='add_noise', target_samples=50)\n",
        "\n",
        "# df_test = ap.preprocess(path_metadata, path_audio_files, n_mels=64,\n",
        "#                          oversample_technique=None, target_samples=None)\n",
        "\n",
        "# df_train.to_pickle('data/train/df_train.pkl')\n",
        "# df_test.to_pickle('data/test/df_test.pkl')\n"
      ]
    },
    {
      "cell_type": "markdown",
      "metadata": {
        "id": "R4insqF9ICQy"
      },
      "source": [
        "As the preprocessing takes a long time (up to 3 hours) we proceed by loading the preprocessed data"
      ]
    },
    {
      "cell_type": "code",
      "execution_count": null,
      "metadata": {
        "id": "JpBej2HZICQy"
      },
      "outputs": [],
      "source": [
        "df_train = pd.read_pickle('./data/train/df_train.pkl')\n",
        "df_test = pd.read_pickle('./data/test/df_test.pkl')"
      ]
    },
    {
      "cell_type": "markdown",
      "metadata": {
        "id": "bm2EXA6ZICQy"
      },
      "source": [
        "### Preprocessing with Snippets"
      ]
    },
    {
      "cell_type": "markdown",
      "metadata": {
        "id": "YG8GjhZ7ICQy"
      },
      "source": [
        "Train and test data is preprocessed. Oversampling technique and target sample can be specified."
      ]
    },
    {
      "cell_type": "code",
      "execution_count": null,
      "metadata": {
        "id": "bHdLk1neICQy"
      },
      "outputs": [],
      "source": [
        "# df_snippet_train = ap.preprocess_snippets(path_metadata, path_audio_files, snippet_duration=5)\n",
        "# df_snippet_test = ap.preprocess_snippets(path_metadata, path_audio_files, snippet_duration=5)\n",
        "\n",
        "# df_snippet_train.to_pickle('data/train/df_snippet_train.pkl')\n",
        "# df_snippet_test.to_pickle('data/test/df_snippet_test.pkl')"
      ]
    },
    {
      "cell_type": "markdown",
      "metadata": {
        "id": "f5wY_7d0ICQy"
      },
      "source": [
        "As the preprocessing takes a long time (up to 5 hours) we proceed by loading the preprocessed data"
      ]
    },
    {
      "cell_type": "code",
      "execution_count": null,
      "metadata": {
        "id": "PtXNivCaICQy"
      },
      "outputs": [],
      "source": [
        "df_snippet_train = pd.read_pickle('./data/train/df_snippet_train.pkl')\n",
        "df_snippet_test = pd.read_pickle('./data/test/df_snippet_test.pkl')"
      ]
    },
    {
      "cell_type": "markdown",
      "metadata": {
        "id": "YBUOqBlzICQy"
      },
      "source": [
        "## Modelling - Pipeline 1"
      ]
    },
    {
      "cell_type": "code",
      "source": [
        "def plot_history(history):\n",
        "    # Get training and validation loss values\n",
        "    loss = history.history['loss']\n",
        "    val_loss = history.history['val_loss']\n",
        "\n",
        "    # Plot the training and validation loss\n",
        "    epochs = range(1, len(loss) + 1)\n",
        "    plt.plot(epochs, loss, 'tab:blue', label='Training loss')\n",
        "    plt.plot(epochs, val_loss, 'tab:orange', label='Validation loss')\n",
        "    plt.title('Training and Validation Loss')\n",
        "    plt.xlabel('Epochs')\n",
        "    plt.ylabel('Loss')\n",
        "    plt.legend()\n",
        "    plt.show()"
      ],
      "metadata": {
        "id": "ykdwmv0sSn65"
      },
      "execution_count": null,
      "outputs": []
    },
    {
      "cell_type": "code",
      "execution_count": null,
      "metadata": {
        "id": "YgXezf8CICQy"
      },
      "outputs": [],
      "source": [
        "# Stack the features for train and test sets\n",
        "X_train = np.stack(df_train['features'].values)\n",
        "y_train = df_train['common_name'].values\n",
        "\n",
        "X_test = np.stack(df_test['features'].values)\n",
        "y_test = df_test['common_name'].values\n",
        "\n",
        "# Split the test set into validation and test sets\n",
        "X_val, X_test, y_val, y_test = train_test_split(X_test, y_test, test_size=0.5, stratify=y_test, random_state=42)\n",
        "\n",
        "# Expand the dimensions of the data to fit the CNN input shape\n",
        "X_train = np.expand_dims(X_train, -1)\n",
        "X_val = np.expand_dims(X_val, -1)\n",
        "X_test = np.expand_dims(X_test, -1)\n",
        "\n",
        "# Encode the labels\n",
        "label_encoder = LabelEncoder()\n",
        "y_train_encoded = label_encoder.fit_transform(y_train)\n",
        "y_val_encoded = label_encoder.transform(y_val)\n",
        "y_test_encoded = label_encoder.transform(y_test)\n",
        "\n",
        "# One-hot encode the labels\n",
        "y_train_one_hot = to_categorical(y_train_encoded)\n",
        "y_val_one_hot = to_categorical(y_val_encoded)\n",
        "y_test_one_hot = to_categorical(y_test_encoded)"
      ]
    },
    {
      "cell_type": "markdown",
      "metadata": {
        "id": "9aQg5sgxICQz"
      },
      "source": [
        "### Baseline Model - Random Forest"
      ]
    },
    {
      "cell_type": "code",
      "execution_count": null,
      "metadata": {
        "colab": {
          "base_uri": "https://localhost:8080/"
        },
        "id": "UbQ1ozESICQz",
        "outputId": "582df363-9dd8-47f9-cc7e-a544c57f42ba"
      },
      "outputs": [
        {
          "output_type": "stream",
          "name": "stderr",
          "text": [
            "[Parallel(n_jobs=-1)]: Using backend ThreadingBackend with 12 concurrent workers.\n",
            "[Parallel(n_jobs=-1)]: Done  26 tasks      | elapsed:  2.9min\n",
            "[Parallel(n_jobs=-1)]: Done 100 out of 100 | elapsed:  8.9min finished\n",
            "[Parallel(n_jobs=12)]: Using backend ThreadingBackend with 12 concurrent workers.\n",
            "[Parallel(n_jobs=12)]: Done  26 tasks      | elapsed:    0.0s\n",
            "[Parallel(n_jobs=12)]: Done 100 out of 100 | elapsed:    0.1s finished\n"
          ]
        }
      ],
      "source": [
        "# Reshape data\n",
        "X_train_2d = X_train.reshape((X_train.shape[0], -1))\n",
        "X_test_2d = X_test.reshape((X_test.shape[0], -1))\n",
        "\n",
        "# Encoding labels\n",
        "le = LabelEncoder()\n",
        "y_train_encoded = le.fit_transform(y_train)\n",
        "y_test_encoded = le.transform(y_test)\n",
        "\n",
        "# Creating the RandomForest model\n",
        "clf = RandomForestClassifier(n_estimators=100, bootstrap=True, verbose=1, n_jobs=-1)\n",
        "\n",
        "# Train the model using the training sets\n",
        "clf.fit(X_train_2d, y_train_encoded)\n",
        "\n",
        "# Predict the response for test dataset\n",
        "y_pred = clf.predict(X_test_2d)"
      ]
    },
    {
      "cell_type": "code",
      "source": [
        "# Compute the accuracy score\n",
        "accuracy = accuracy_score(y_test_encoded, y_pred)\n",
        "print(\"Accuracy: \", round(accuracy,2))\n",
        "\n",
        "# Classification matrix\n",
        "matrix = classification_report(y_test_encoded, y_pred)\n",
        "lines = matrix.split('\\n')[:1]\n",
        "lines += matrix.split('\\n')[-4:]\n",
        "for line in lines:\n",
        "  print(line)"
      ],
      "metadata": {
        "colab": {
          "base_uri": "https://localhost:8080/"
        },
        "id": "-Z32kmtdzP-I",
        "outputId": "6ee3d6a1-47a3-4cd2-82e4-20abf9cc71e6"
      },
      "execution_count": null,
      "outputs": [
        {
          "output_type": "stream",
          "name": "stdout",
          "text": [
            "Accuracy:  0.22\n",
            "              precision    recall  f1-score   support\n",
            "    accuracy                           0.22      1665\n",
            "   macro avg       0.08      0.06      0.05      1665\n",
            "weighted avg       0.16      0.22      0.15      1665\n",
            "\n"
          ]
        }
      ]
    },
    {
      "cell_type": "markdown",
      "metadata": {
        "id": "Ywol5mmlICQz"
      },
      "source": [
        "### Convolutional Neural Network (CNN)"
      ]
    },
    {
      "cell_type": "code",
      "execution_count": null,
      "metadata": {
        "colab": {
          "base_uri": "https://localhost:8080/"
        },
        "id": "chkTy8c5ICQz",
        "outputId": "0ba42a2d-982c-460a-ff6f-ca3e23a8ce09"
      },
      "outputs": [
        {
          "output_type": "stream",
          "name": "stdout",
          "text": [
            "Model: \"sequential\"\n",
            "_________________________________________________________________\n",
            " Layer (type)                Output Shape              Param #   \n",
            "=================================================================\n",
            " conv2d (Conv2D)             (None, 64, 1278, 32)      320       \n",
            "                                                                 \n",
            " batch_normalization (BatchN  (None, 64, 1278, 32)     128       \n",
            " ormalization)                                                   \n",
            "                                                                 \n",
            " re_lu (ReLU)                (None, 64, 1278, 32)      0         \n",
            "                                                                 \n",
            " max_pooling2d (MaxPooling2D  (None, 32, 639, 32)      0         \n",
            " )                                                               \n",
            "                                                                 \n",
            " conv2d_1 (Conv2D)           (None, 32, 639, 64)       18496     \n",
            "                                                                 \n",
            " batch_normalization_1 (Batc  (None, 32, 639, 64)      256       \n",
            " hNormalization)                                                 \n",
            "                                                                 \n",
            " re_lu_1 (ReLU)              (None, 32, 639, 64)       0         \n",
            "                                                                 \n",
            " max_pooling2d_1 (MaxPooling  (None, 16, 319, 64)      0         \n",
            " 2D)                                                             \n",
            "                                                                 \n",
            " conv2d_2 (Conv2D)           (None, 16, 319, 128)      73856     \n",
            "                                                                 \n",
            " batch_normalization_2 (Batc  (None, 16, 319, 128)     512       \n",
            " hNormalization)                                                 \n",
            "                                                                 \n",
            " re_lu_2 (ReLU)              (None, 16, 319, 128)      0         \n",
            "                                                                 \n",
            " max_pooling2d_2 (MaxPooling  (None, 8, 159, 128)      0         \n",
            " 2D)                                                             \n",
            "                                                                 \n",
            " conv2d_3 (Conv2D)           (None, 8, 159, 256)       295168    \n",
            "                                                                 \n",
            " batch_normalization_3 (Batc  (None, 8, 159, 256)      1024      \n",
            " hNormalization)                                                 \n",
            "                                                                 \n",
            " re_lu_3 (ReLU)              (None, 8, 159, 256)       0         \n",
            "                                                                 \n",
            " max_pooling2d_3 (MaxPooling  (None, 4, 79, 256)       0         \n",
            " 2D)                                                             \n",
            "                                                                 \n",
            " conv2d_4 (Conv2D)           (None, 4, 79, 512)        1180160   \n",
            "                                                                 \n",
            " batch_normalization_4 (Batc  (None, 4, 79, 512)       2048      \n",
            " hNormalization)                                                 \n",
            "                                                                 \n",
            " re_lu_4 (ReLU)              (None, 4, 79, 512)        0         \n",
            "                                                                 \n",
            " max_pooling2d_4 (MaxPooling  (None, 2, 39, 512)       0         \n",
            " 2D)                                                             \n",
            "                                                                 \n",
            " conv2d_5 (Conv2D)           (None, 1, 38, 512)        1049088   \n",
            "                                                                 \n",
            " batch_normalization_5 (Batc  (None, 1, 38, 512)       2048      \n",
            " hNormalization)                                                 \n",
            "                                                                 \n",
            " re_lu_5 (ReLU)              (None, 1, 38, 512)        0         \n",
            "                                                                 \n",
            " dropout (Dropout)           (None, 1, 38, 512)        0         \n",
            "                                                                 \n",
            " conv2d_6 (Conv2D)           (None, 1, 38, 1024)       525312    \n",
            "                                                                 \n",
            " batch_normalization_6 (Batc  (None, 1, 38, 1024)      4096      \n",
            " hNormalization)                                                 \n",
            "                                                                 \n",
            " re_lu_6 (ReLU)              (None, 1, 38, 1024)       0         \n",
            "                                                                 \n",
            " dropout_1 (Dropout)         (None, 1, 38, 1024)       0         \n",
            "                                                                 \n",
            " conv2d_7 (Conv2D)           (None, 1, 38, 212)        217300    \n",
            "                                                                 \n",
            " batch_normalization_7 (Batc  (None, 1, 38, 212)       848       \n",
            " hNormalization)                                                 \n",
            "                                                                 \n",
            " dropout_2 (Dropout)         (None, 1, 38, 212)        0         \n",
            "                                                                 \n",
            " flatten (Flatten)           (None, 8056)              0         \n",
            "                                                                 \n",
            " dense (Dense)               (None, 212)               1708084   \n",
            "                                                                 \n",
            "=================================================================\n",
            "Total params: 5,078,744\n",
            "Trainable params: 5,073,264\n",
            "Non-trainable params: 5,480\n",
            "_________________________________________________________________\n",
            "Epoch 1/30\n",
            "533/533 [==============================] - 34s 42ms/step - loss: 6.5009 - accuracy: 0.0578 - val_loss: 4.9903 - val_accuracy: 0.1340\n",
            "Epoch 2/30\n",
            "533/533 [==============================] - 21s 40ms/step - loss: 5.7163 - accuracy: 0.1079 - val_loss: 4.5798 - val_accuracy: 0.1154\n",
            "Epoch 3/30\n",
            "533/533 [==============================] - 21s 40ms/step - loss: 4.5298 - accuracy: 0.1749 - val_loss: 4.0191 - val_accuracy: 0.2212\n",
            "Epoch 4/30\n",
            "533/533 [==============================] - 21s 40ms/step - loss: 3.5607 - accuracy: 0.2685 - val_loss: 3.6030 - val_accuracy: 0.2716\n",
            "Epoch 5/30\n",
            "533/533 [==============================] - 21s 40ms/step - loss: 2.9255 - accuracy: 0.3524 - val_loss: 3.7396 - val_accuracy: 0.2602\n",
            "Epoch 6/30\n",
            "533/533 [==============================] - 21s 40ms/step - loss: 2.4935 - accuracy: 0.4290 - val_loss: 3.0205 - val_accuracy: 0.3636\n",
            "Epoch 7/30\n",
            "533/533 [==============================] - 21s 40ms/step - loss: 2.1199 - accuracy: 0.4992 - val_loss: 3.0320 - val_accuracy: 0.3780\n",
            "Epoch 8/30\n",
            "533/533 [==============================] - 21s 40ms/step - loss: 1.8610 - accuracy: 0.5519 - val_loss: 3.1158 - val_accuracy: 0.3456\n",
            "Epoch 9/30\n",
            "533/533 [==============================] - 21s 40ms/step - loss: 1.6341 - accuracy: 0.5950 - val_loss: 3.2721 - val_accuracy: 0.3347\n",
            "Epoch 10/30\n",
            "533/533 [==============================] - 21s 40ms/step - loss: 1.4356 - accuracy: 0.6339 - val_loss: 3.4040 - val_accuracy: 0.3834\n",
            "Epoch 11/30\n",
            "533/533 [==============================] - 21s 40ms/step - loss: 1.2864 - accuracy: 0.6653 - val_loss: 3.2702 - val_accuracy: 0.3792\n",
            "Epoch 12/30\n",
            "533/533 [==============================] - 21s 40ms/step - loss: 1.1141 - accuracy: 0.7073 - val_loss: 4.5577 - val_accuracy: 0.3011\n",
            "Epoch 13/30\n",
            "533/533 [==============================] - 21s 40ms/step - loss: 0.9788 - accuracy: 0.7376 - val_loss: 3.2159 - val_accuracy: 0.4044\n",
            "Epoch 14/30\n",
            "533/533 [==============================] - 21s 40ms/step - loss: 0.8584 - accuracy: 0.7655 - val_loss: 3.3819 - val_accuracy: 0.4525\n",
            "Epoch 15/30\n",
            "533/533 [==============================] - 21s 40ms/step - loss: 0.8096 - accuracy: 0.7782 - val_loss: 2.9543 - val_accuracy: 0.4681\n",
            "Epoch 16/30\n",
            "533/533 [==============================] - 21s 40ms/step - loss: 0.7308 - accuracy: 0.7973 - val_loss: 3.4865 - val_accuracy: 0.4393\n",
            "Epoch 17/30\n",
            "533/533 [==============================] - 21s 40ms/step - loss: 0.6122 - accuracy: 0.8280 - val_loss: 3.5450 - val_accuracy: 0.4020\n",
            "Epoch 18/30\n",
            "533/533 [==============================] - 21s 40ms/step - loss: 0.5397 - accuracy: 0.8449 - val_loss: 3.4037 - val_accuracy: 0.4597\n",
            "Epoch 19/30\n",
            "533/533 [==============================] - 21s 40ms/step - loss: 0.5306 - accuracy: 0.8463 - val_loss: 3.4737 - val_accuracy: 0.4772\n",
            "Epoch 20/30\n",
            "533/533 [==============================] - 21s 40ms/step - loss: 0.5022 - accuracy: 0.8566 - val_loss: 3.2250 - val_accuracy: 0.4712\n",
            "Epoch 21/30\n",
            "533/533 [==============================] - 21s 40ms/step - loss: 0.4296 - accuracy: 0.8758 - val_loss: 3.5361 - val_accuracy: 0.4351\n",
            "Epoch 22/30\n",
            "533/533 [==============================] - 21s 40ms/step - loss: 0.4229 - accuracy: 0.8783 - val_loss: 3.3569 - val_accuracy: 0.4796\n",
            "Epoch 23/30\n",
            "533/533 [==============================] - 21s 40ms/step - loss: 0.4273 - accuracy: 0.8760 - val_loss: 4.0722 - val_accuracy: 0.4627\n",
            "Epoch 24/30\n",
            "533/533 [==============================] - 21s 40ms/step - loss: 0.3605 - accuracy: 0.8963 - val_loss: 3.3745 - val_accuracy: 0.4964\n",
            "Epoch 25/30\n",
            "533/533 [==============================] - 21s 40ms/step - loss: 0.3136 - accuracy: 0.9074 - val_loss: 3.6595 - val_accuracy: 0.4694\n",
            "Epoch 26/30\n",
            "533/533 [==============================] - 21s 40ms/step - loss: 0.2879 - accuracy: 0.9146 - val_loss: 4.6789 - val_accuracy: 0.4177\n",
            "Epoch 27/30\n",
            "533/533 [==============================] - 21s 40ms/step - loss: 0.3417 - accuracy: 0.8990 - val_loss: 3.7844 - val_accuracy: 0.4820\n",
            "Epoch 28/30\n",
            "533/533 [==============================] - 21s 40ms/step - loss: 0.3074 - accuracy: 0.9123 - val_loss: 4.2573 - val_accuracy: 0.4964\n",
            "Epoch 29/30\n",
            "533/533 [==============================] - 21s 40ms/step - loss: 0.2828 - accuracy: 0.9185 - val_loss: 4.0021 - val_accuracy: 0.4351\n",
            "Epoch 30/30\n",
            "533/533 [==============================] - 21s 40ms/step - loss: 0.3177 - accuracy: 0.9082 - val_loss: 3.6213 - val_accuracy: 0.5042\n",
            "53/53 [==============================] - 1s 12ms/step - loss: 3.5867 - accuracy: 0.4823\n",
            "53/53 [==============================] - 1s 8ms/step\n"
          ]
        }
      ],
      "source": [
        "n_classes = df_train['common_name'].nunique()\n",
        "input_shape = X_train[0].shape\n",
        "\n",
        "model = Sequential([\n",
        "    # Layer 1\n",
        "    Conv2D(32, kernel_size=(3, 3), activation='relu', input_shape=input_shape, padding='same'),\n",
        "    BatchNormalization(),\n",
        "    ReLU(),\n",
        "    MaxPooling2D(pool_size=(2, 2)),\n",
        "\n",
        "    # Layer 2\n",
        "    Conv2D(64, kernel_size=(3, 3), strides=1, activation='relu', padding='same'),\n",
        "    BatchNormalization(),\n",
        "    ReLU(),\n",
        "    MaxPooling2D(pool_size=(2, 2)),\n",
        "\n",
        "    # Layer 3\n",
        "    Conv2D(128, kernel_size=(3, 3), strides=1, activation='relu', padding='same'),\n",
        "    BatchNormalization(),\n",
        "    ReLU(),\n",
        "    MaxPooling2D(pool_size=(2, 2)),\n",
        "\n",
        "    # Layer 4\n",
        "    Conv2D(256, kernel_size=(3, 3), strides=1, activation='relu', padding='same'),\n",
        "    BatchNormalization(),\n",
        "    ReLU(),\n",
        "    MaxPooling2D(pool_size=(2, 2)),\n",
        "\n",
        "    # Layer 5\n",
        "    Conv2D(512, kernel_size=(3, 3), strides=1, activation='relu', padding='same'),\n",
        "    BatchNormalization(),\n",
        "    ReLU(),\n",
        "    MaxPooling2D(pool_size=(2, 2)),\n",
        "\n",
        "    # Layer 6\n",
        "    Conv2D(512, (2, 2), padding='valid', activation='relu'),\n",
        "    BatchNormalization(),\n",
        "    ReLU(),\n",
        "    Dropout(0.5),\n",
        "    \n",
        "    # Layer 7\n",
        "    Conv2D(1024, (1, 1), padding='valid', activation='relu'),\n",
        "    BatchNormalization(),\n",
        "    ReLU(),\n",
        "    Dropout(0.5),\n",
        "    \n",
        "    # Layer 8\n",
        "    Conv2D(n_classes, (1, 1), padding='valid'),\n",
        "    BatchNormalization(),\n",
        "    Dropout(0.5),\n",
        "    \n",
        "    # Dense Layer\n",
        "    Flatten(),\n",
        "    Dense(n_classes, activation='softmax')\n",
        "])\n",
        "# Summary of the model\n",
        "model.summary()\n",
        "\n",
        "# Define the learning rate scheduler\n",
        "reduce_lr = ReduceLROnPlateau(monitor='val_loss', factor=0.5, patience=10, min_lr=0.0001, verbose=1)\n",
        "\n",
        "# Optimizer\n",
        "optimizer = Adam(learning_rate=0.001)\n",
        "\n",
        "# Compile the model\n",
        "model.compile(loss='categorical_crossentropy', optimizer=optimizer, metrics=['accuracy'])\n",
        "\n",
        "# Fit the model\n",
        "history = model.fit(X_train, y_train_one_hot, validation_data=(X_val, y_val_one_hot), epochs=30, batch_size=32)\n",
        "\n",
        "# Evaluate/Predict\n",
        "test_loss, test_acc = model.evaluate(X_test, y_test_one_hot)\n",
        "y_pred_one_hot = model.predict(X_test)"
      ]
    },
    {
      "cell_type": "code",
      "source": [
        "model.save('./data/models/CNN')"
      ],
      "metadata": {
        "id": "Of7h-efVMth3"
      },
      "execution_count": null,
      "outputs": []
    },
    {
      "cell_type": "code",
      "source": [
        "plot_history(history)"
      ],
      "metadata": {
        "colab": {
          "base_uri": "https://localhost:8080/",
          "height": 472
        },
        "id": "7imqG0ewOXuO",
        "outputId": "312cc7a9-dee5-4433-f4ee-ddc21c115885"
      },
      "execution_count": null,
      "outputs": [
        {
          "output_type": "display_data",
          "data": {
            "text/plain": [
              "<Figure size 640x480 with 1 Axes>"
            ],
            "image/png": "[encoded data removed]"
          },
          "metadata": {}
        }
      ]
    },
    {
      "cell_type": "code",
      "source": [
        "# Evaluate the model\n",
        "print('Test Loss: {}'.format(round(test_loss, 2)))\n",
        "print('Test Accuracy: {}\\n'.format(round(test_acc,2)))\n",
        "\n",
        "# Classification matrix\n",
        "y_pred = np.argmax(y_pred_one_hot, axis=1)\n",
        "y_true = np.argmax(y_test_one_hot, axis=1)\n",
        "\n",
        "matrix = classification_report(y_true, y_pred)\n",
        "lines = matrix.split('\\n')[:1]\n",
        "lines += matrix.split('\\n')[-4:]\n",
        "for line in lines:\n",
        "  print(line)"
      ],
      "metadata": {
        "colab": {
          "base_uri": "https://localhost:8080/"
        },
        "id": "KsONHodWPrVr",
        "outputId": "9d7c3673-8b04-4fd7-d8b3-fd7a174c8ce6"
      },
      "execution_count": null,
      "outputs": [
        {
          "output_type": "stream",
          "name": "stdout",
          "text": [
            "Test Loss: 3.59\n",
            "Test Accuracy: 0.48\n",
            "\n",
            "              precision    recall  f1-score   support\n",
            "    accuracy                           0.48      1665\n",
            "   macro avg       0.25      0.24      0.23      1665\n",
            "weighted avg       0.49      0.48      0.47      1665\n",
            "\n"
          ]
        }
      ]
    },
    {
      "cell_type": "markdown",
      "metadata": {
        "id": "IWQCKuQvICQz"
      },
      "source": [
        "### Recurrent Convolutional Neural Network (RCNN)"
      ]
    },
    {
      "cell_type": "code",
      "source": [
        "n_classes = df_train['common_name'].nunique()\n",
        "input_shape = X_train[0].shape\n",
        "\n",
        "model = Sequential([\n",
        "    # Layer 1\n",
        "    Conv2D(32, kernel_size=(3, 3), activation='relu', input_shape=input_shape, padding='same'),\n",
        "    BatchNormalization(),\n",
        "    ReLU(),\n",
        "    MaxPooling2D(pool_size=(2, 2)),\n",
        "\n",
        "    # Layer 2\n",
        "    Conv2D(64, kernel_size=(3, 3), strides=1, activation='relu', padding='same'),\n",
        "    BatchNormalization(),\n",
        "    ReLU(),\n",
        "    MaxPooling2D(pool_size=(2, 2)),\n",
        "\n",
        "    # Layer 3\n",
        "    Conv2D(128, kernel_size=(3, 3), strides=1, activation='relu', padding='same'),\n",
        "    BatchNormalization(),\n",
        "    ReLU(),\n",
        "    MaxPooling2D(pool_size=(2, 2)),\n",
        "\n",
        "    # Layer 4\n",
        "    Conv2D(256, kernel_size=(3, 3), strides=1, activation='relu', padding='same'),\n",
        "    BatchNormalization(),\n",
        "    ReLU(),\n",
        "    MaxPooling2D(pool_size=(2, 2)),\n",
        "\n",
        "    # Layer 5\n",
        "    Conv2D(512, kernel_size=(3, 3), strides=1, activation='relu', padding='same'),\n",
        "    BatchNormalization(),\n",
        "    ReLU(),\n",
        "    MaxPooling2D(pool_size=(2, 2)),\n",
        "\n",
        "    # Layer 6\n",
        "    Conv2D(512, (2, 2), padding='valid', activation='relu'),\n",
        "    BatchNormalization(),\n",
        "    ReLU(),\n",
        "    Dropout(0.5),\n",
        "    \n",
        "    # Layer 7\n",
        "    Conv2D(1024, (1, 1), padding='valid', activation='relu'),\n",
        "    BatchNormalization(),\n",
        "    ReLU(),\n",
        "    Dropout(0.5),\n",
        "    \n",
        "    Reshape((-1, 512)),  # We have to reshape our data for LSTM\n",
        "    LSTM(512),\n",
        "\n",
        "    Dropout(0.3),\n",
        "    BatchNormalization(),\n",
        "    Dense(df_train['common_name'].nunique(), activation='softmax')  \n",
        "])\n",
        "\n",
        "# Summary of the model\n",
        "model.summary()\n",
        "\n",
        "# Define the learning rate scheduler\n",
        "reduce_lr = ReduceLROnPlateau(monitor='val_loss', factor=0.5, patience=10, min_lr=0.0001, verbose=1)\n",
        "\n",
        "# Optimizer\n",
        "optimizer = Adam(learning_rate=0.001)\n",
        "\n",
        "# Compile the model\n",
        "model.compile(loss='categorical_crossentropy', optimizer=optimizer, metrics=['accuracy'])\n",
        "\n",
        "# Fit the model\n",
        "history = model.fit(X_train, y_train_one_hot, validation_data=(X_val, y_val_one_hot), epochs=40, batch_size=32)\n",
        "\n",
        "# Evaluate the model\n",
        "test_loss, test_acc = model.evaluate(X_test, y_test_one_hot)\n",
        "\n",
        "# Classification matrix\n",
        "y_pred_one_hot = model.predict(X_test)\n"
      ],
      "metadata": {
        "colab": {
          "base_uri": "https://localhost:8080/"
        },
        "id": "XfF9T0Qokzy_",
        "outputId": "84163186-dd89-405d-fcfb-ed0235976179"
      },
      "execution_count": null,
      "outputs": [
        {
          "output_type": "stream",
          "name": "stdout",
          "text": [
            "Model: \"sequential_1\"\n",
            "_________________________________________________________________\n",
            " Layer (type)                Output Shape              Param #   \n",
            "=================================================================\n",
            " conv2d_8 (Conv2D)           (None, 64, 1278, 32)      320       \n",
            "                                                                 \n",
            " batch_normalization_8 (Batc  (None, 64, 1278, 32)     128       \n",
            " hNormalization)                                                 \n",
            "                                                                 \n",
            " re_lu_7 (ReLU)              (None, 64, 1278, 32)      0         \n",
            "                                                                 \n",
            " max_pooling2d_5 (MaxPooling  (None, 32, 639, 32)      0         \n",
            " 2D)                                                             \n",
            "                                                                 \n",
            " conv2d_9 (Conv2D)           (None, 32, 639, 64)       18496     \n",
            "                                                                 \n",
            " batch_normalization_9 (Batc  (None, 32, 639, 64)      256       \n",
            " hNormalization)                                                 \n",
            "                                                                 \n",
            " re_lu_8 (ReLU)              (None, 32, 639, 64)       0         \n",
            "                                                                 \n",
            " max_pooling2d_6 (MaxPooling  (None, 16, 319, 64)      0         \n",
            " 2D)                                                             \n",
            "                                                                 \n",
            " conv2d_10 (Conv2D)          (None, 16, 319, 128)      73856     \n",
            "                                                                 \n",
            " batch_normalization_10 (Bat  (None, 16, 319, 128)     512       \n",
            " chNormalization)                                                \n",
            "                                                                 \n",
            " re_lu_9 (ReLU)              (None, 16, 319, 128)      0         \n",
            "                                                                 \n",
            " max_pooling2d_7 (MaxPooling  (None, 8, 159, 128)      0         \n",
            " 2D)                                                             \n",
            "                                                                 \n",
            " conv2d_11 (Conv2D)          (None, 8, 159, 256)       295168    \n",
            "                                                                 \n",
            " batch_normalization_11 (Bat  (None, 8, 159, 256)      1024      \n",
            " chNormalization)                                                \n",
            "                                                                 \n",
            " re_lu_10 (ReLU)             (None, 8, 159, 256)       0         \n",
            "                                                                 \n",
            " max_pooling2d_8 (MaxPooling  (None, 4, 79, 256)       0         \n",
            " 2D)                                                             \n",
            "                                                                 \n",
            " conv2d_12 (Conv2D)          (None, 4, 79, 512)        1180160   \n",
            "                                                                 \n",
            " batch_normalization_12 (Bat  (None, 4, 79, 512)       2048      \n",
            " chNormalization)                                                \n",
            "                                                                 \n",
            " re_lu_11 (ReLU)             (None, 4, 79, 512)        0         \n",
            "                                                                 \n",
            " max_pooling2d_9 (MaxPooling  (None, 2, 39, 512)       0         \n",
            " 2D)                                                             \n",
            "                                                                 \n",
            " conv2d_13 (Conv2D)          (None, 1, 38, 512)        1049088   \n",
            "                                                                 \n",
            " batch_normalization_13 (Bat  (None, 1, 38, 512)       2048      \n",
            " chNormalization)                                                \n",
            "                                                                 \n",
            " re_lu_12 (ReLU)             (None, 1, 38, 512)        0         \n",
            "                                                                 \n",
            " dropout_3 (Dropout)         (None, 1, 38, 512)        0         \n",
            "                                                                 \n",
            " conv2d_14 (Conv2D)          (None, 1, 38, 1024)       525312    \n",
            "                                                                 \n",
            " batch_normalization_14 (Bat  (None, 1, 38, 1024)      4096      \n",
            " chNormalization)                                                \n",
            "                                                                 \n",
            " re_lu_13 (ReLU)             (None, 1, 38, 1024)       0         \n",
            "                                                                 \n",
            " dropout_4 (Dropout)         (None, 1, 38, 1024)       0         \n",
            "                                                                 \n",
            " reshape (Reshape)           (None, 76, 512)           0         \n",
            "                                                                 \n",
            " lstm (LSTM)                 (None, 512)               2099200   \n",
            "                                                                 \n",
            " dropout_5 (Dropout)         (None, 512)               0         \n",
            "                                                                 \n",
            " batch_normalization_15 (Bat  (None, 512)              2048      \n",
            " chNormalization)                                                \n",
            "                                                                 \n",
            " dense_1 (Dense)             (None, 212)               108756    \n",
            "                                                                 \n",
            "=================================================================\n",
            "Total params: 5,362,516\n",
            "Trainable params: 5,356,436\n",
            "Non-trainable params: 6,080\n",
            "_________________________________________________________________\n",
            "Epoch 1/40\n",
            "533/533 [==============================] - 32s 46ms/step - loss: 5.3575 - accuracy: 0.0381 - val_loss: 4.7231 - val_accuracy: 0.0980\n",
            "Epoch 2/40\n",
            "533/533 [==============================] - 24s 44ms/step - loss: 4.6472 - accuracy: 0.0960 - val_loss: 4.5442 - val_accuracy: 0.1100\n",
            "Epoch 3/40\n",
            "533/533 [==============================] - 23s 44ms/step - loss: 4.1180 - accuracy: 0.1566 - val_loss: 3.8011 - val_accuracy: 0.2085\n",
            "Epoch 4/40\n",
            "533/533 [==============================] - 23s 44ms/step - loss: 3.8134 - accuracy: 0.1945 - val_loss: 3.7839 - val_accuracy: 0.2109\n",
            "Epoch 5/40\n",
            "533/533 [==============================] - 23s 44ms/step - loss: 3.5959 - accuracy: 0.2201 - val_loss: 4.3815 - val_accuracy: 0.1364\n",
            "Epoch 6/40\n",
            "533/533 [==============================] - 23s 44ms/step - loss: 3.3845 - accuracy: 0.2493 - val_loss: 2.9278 - val_accuracy: 0.3425\n",
            "Epoch 7/40\n",
            "533/533 [==============================] - 23s 44ms/step - loss: 3.1824 - accuracy: 0.2824 - val_loss: 3.1469 - val_accuracy: 0.3161\n",
            "Epoch 8/40\n",
            "533/533 [==============================] - 23s 44ms/step - loss: 3.0073 - accuracy: 0.3166 - val_loss: 2.9169 - val_accuracy: 0.3492\n",
            "Epoch 9/40\n",
            "533/533 [==============================] - 23s 44ms/step - loss: 2.8292 - accuracy: 0.3466 - val_loss: 3.1461 - val_accuracy: 0.3299\n",
            "Epoch 10/40\n",
            "533/533 [==============================] - 23s 44ms/step - loss: 2.6460 - accuracy: 0.3873 - val_loss: 2.6917 - val_accuracy: 0.4099\n",
            "Epoch 11/40\n",
            "533/533 [==============================] - 23s 44ms/step - loss: 2.4947 - accuracy: 0.4098 - val_loss: 2.6803 - val_accuracy: 0.4062\n",
            "Epoch 12/40\n",
            "533/533 [==============================] - 23s 44ms/step - loss: 2.3387 - accuracy: 0.4436 - val_loss: 2.4767 - val_accuracy: 0.4627\n",
            "Epoch 13/40\n",
            "533/533 [==============================] - 23s 44ms/step - loss: 2.2013 - accuracy: 0.4700 - val_loss: 2.5004 - val_accuracy: 0.4597\n",
            "Epoch 14/40\n",
            "533/533 [==============================] - 23s 44ms/step - loss: 2.1143 - accuracy: 0.4854 - val_loss: 2.2435 - val_accuracy: 0.5108\n",
            "Epoch 15/40\n",
            "533/533 [==============================] - 23s 44ms/step - loss: 1.9685 - accuracy: 0.5162 - val_loss: 2.3192 - val_accuracy: 0.5192\n",
            "Epoch 16/40\n",
            "533/533 [==============================] - 23s 44ms/step - loss: 1.8530 - accuracy: 0.5461 - val_loss: 2.5372 - val_accuracy: 0.4597\n",
            "Epoch 17/40\n",
            "533/533 [==============================] - 23s 44ms/step - loss: 1.7277 - accuracy: 0.5711 - val_loss: 2.7344 - val_accuracy: 0.4141\n",
            "Epoch 18/40\n",
            "533/533 [==============================] - 23s 44ms/step - loss: 1.6342 - accuracy: 0.5862 - val_loss: 2.5149 - val_accuracy: 0.5018\n",
            "Epoch 19/40\n",
            "533/533 [==============================] - 23s 44ms/step - loss: 1.5340 - accuracy: 0.6122 - val_loss: 2.1866 - val_accuracy: 0.5319\n",
            "Epoch 20/40\n",
            "533/533 [==============================] - 23s 44ms/step - loss: 1.4436 - accuracy: 0.6306 - val_loss: 2.2581 - val_accuracy: 0.5270\n",
            "Epoch 21/40\n",
            "533/533 [==============================] - 23s 44ms/step - loss: 1.3648 - accuracy: 0.6462 - val_loss: 2.2016 - val_accuracy: 0.5589\n",
            "Epoch 22/40\n",
            "533/533 [==============================] - 23s 44ms/step - loss: 1.2667 - accuracy: 0.6641 - val_loss: 2.1610 - val_accuracy: 0.5601\n",
            "Epoch 23/40\n",
            "533/533 [==============================] - 23s 44ms/step - loss: 1.1893 - accuracy: 0.6855 - val_loss: 2.5036 - val_accuracy: 0.5198\n",
            "Epoch 24/40\n",
            "533/533 [==============================] - 23s 44ms/step - loss: 1.1339 - accuracy: 0.6966 - val_loss: 4.0560 - val_accuracy: 0.3425\n",
            "Epoch 25/40\n",
            "533/533 [==============================] - 24s 44ms/step - loss: 1.1157 - accuracy: 0.7021 - val_loss: 2.3045 - val_accuracy: 0.5487\n",
            "Epoch 26/40\n",
            "533/533 [==============================] - 23s 44ms/step - loss: 1.0224 - accuracy: 0.7225 - val_loss: 2.4629 - val_accuracy: 0.5487\n",
            "Epoch 27/40\n",
            "533/533 [==============================] - 23s 44ms/step - loss: 0.9301 - accuracy: 0.7446 - val_loss: 2.3082 - val_accuracy: 0.5787\n",
            "Epoch 28/40\n",
            "533/533 [==============================] - 24s 44ms/step - loss: 0.8769 - accuracy: 0.7584 - val_loss: 2.2536 - val_accuracy: 0.5919\n",
            "Epoch 29/40\n",
            "533/533 [==============================] - 24s 44ms/step - loss: 0.8724 - accuracy: 0.7575 - val_loss: 2.3095 - val_accuracy: 0.5745\n",
            "Epoch 30/40\n",
            "533/533 [==============================] - 23s 44ms/step - loss: 0.7871 - accuracy: 0.7790 - val_loss: 2.4617 - val_accuracy: 0.5763\n",
            "Epoch 31/40\n",
            "533/533 [==============================] - 24s 44ms/step - loss: 0.7753 - accuracy: 0.7781 - val_loss: 2.3853 - val_accuracy: 0.5883\n",
            "Epoch 32/40\n",
            "533/533 [==============================] - 23s 44ms/step - loss: 0.6897 - accuracy: 0.8020 - val_loss: 2.3645 - val_accuracy: 0.5895\n",
            "Epoch 33/40\n",
            "533/533 [==============================] - 23s 44ms/step - loss: 0.6931 - accuracy: 0.8042 - val_loss: 2.4817 - val_accuracy: 0.5805\n",
            "Epoch 34/40\n",
            "533/533 [==============================] - 23s 44ms/step - loss: 0.6648 - accuracy: 0.8111 - val_loss: 3.5310 - val_accuracy: 0.4525\n",
            "Epoch 35/40\n",
            "533/533 [==============================] - 23s 44ms/step - loss: 0.6188 - accuracy: 0.8222 - val_loss: 2.4356 - val_accuracy: 0.6052\n",
            "Epoch 36/40\n",
            "533/533 [==============================] - 23s 44ms/step - loss: 0.5578 - accuracy: 0.8394 - val_loss: 2.6911 - val_accuracy: 0.5691\n",
            "Epoch 37/40\n",
            "533/533 [==============================] - 23s 44ms/step - loss: 0.8572 - accuracy: 0.7664 - val_loss: 2.4827 - val_accuracy: 0.5811\n",
            "Epoch 38/40\n",
            "533/533 [==============================] - 23s 44ms/step - loss: 0.5872 - accuracy: 0.8297 - val_loss: 2.4737 - val_accuracy: 0.6136\n",
            "Epoch 39/40\n",
            "533/533 [==============================] - 23s 44ms/step - loss: 0.4705 - accuracy: 0.8635 - val_loss: 2.5304 - val_accuracy: 0.6070\n",
            "Epoch 40/40\n",
            "533/533 [==============================] - 23s 44ms/step - loss: 0.4573 - accuracy: 0.8661 - val_loss: 2.5331 - val_accuracy: 0.6070\n",
            "53/53 [==============================] - 1s 12ms/step - loss: 2.5445 - accuracy: 0.5946\n",
            "53/53 [==============================] - 1s 10ms/step\n"
          ]
        }
      ]
    },
    {
      "cell_type": "code",
      "source": [
        "model.save('./data/models/RCNN')"
      ],
      "metadata": {
        "id": "VslAv64Z0eBd"
      },
      "execution_count": null,
      "outputs": []
    },
    {
      "cell_type": "code",
      "source": [
        "plot_history(history)"
      ],
      "metadata": {
        "colab": {
          "base_uri": "https://localhost:8080/",
          "height": 472
        },
        "id": "1t2NEXiek3Tf",
        "outputId": "f1a5cb96-af04-456a-b1c6-c4954209e50d"
      },
      "execution_count": null,
      "outputs": [
        {
          "output_type": "display_data",
          "data": {
            "text/plain": [
              "<Figure size 640x480 with 1 Axes>"
            ],
            "image/png": "[encoded data removed]"
          },
          "metadata": {}
        }
      ]
    },
    {
      "cell_type": "code",
      "source": [
        "# Evaluate the model\n",
        "print('Test Loss: {}'.format(round(test_loss, 2)))\n",
        "print('Test Accuracy: {}\\n'.format(round(test_acc,2)))\n",
        "\n",
        "# Classification matrix\n",
        "y_pred = np.argmax(y_pred_one_hot, axis=1)\n",
        "y_true = np.argmax(y_test_one_hot, axis=1)\n",
        "\n",
        "matrix = classification_report(y_true, y_pred)\n",
        "lines = matrix.split('\\n')[:1]\n",
        "lines += matrix.split('\\n')[-4:]\n",
        "for line in lines:\n",
        "  print(line)"
      ],
      "metadata": {
        "colab": {
          "base_uri": "https://localhost:8080/"
        },
        "id": "v0pijNoPk_zr",
        "outputId": "3b9a49c5-a51b-4ebd-9b6f-cc2dcf9112d2"
      },
      "execution_count": null,
      "outputs": [
        {
          "output_type": "stream",
          "name": "stdout",
          "text": [
            "Test Loss: 2.54\n",
            "Test Accuracy: 0.59\n",
            "\n",
            "              precision    recall  f1-score   support\n",
            "    accuracy                           0.59      1665\n",
            "   macro avg       0.43      0.41      0.40      1665\n",
            "weighted avg       0.62      0.59      0.59      1665\n",
            "\n"
          ]
        }
      ]
    },
    {
      "cell_type": "markdown",
      "metadata": {
        "id": "31aPH35sICQz"
      },
      "source": [
        "## Modeling - Pipeline 2  (5s snippets)"
      ]
    },
    {
      "cell_type": "code",
      "execution_count": null,
      "metadata": {
        "id": "KT8u4BBQICQz"
      },
      "outputs": [],
      "source": [
        "# Stack the features for train and test sets\n",
        "X_train = np.stack(df_snippet_train['features'].values)\n",
        "y_train = df_snippet_train['common_name'].values\n",
        "\n",
        "X_test = np.stack(df_snippet_test['features'].values)\n",
        "y_test = df_snippet_test['common_name'].values\n",
        "\n",
        "# Split the test set into validation and test sets\n",
        "X_val, X_test, y_val, y_test = train_test_split(X_test, y_test, test_size=0.5, stratify=y_test, random_state=42)\n",
        "\n",
        "# Expand the dimensions of the data to fit the CNN input shape\n",
        "X_train = np.expand_dims(X_train, -1)\n",
        "X_val = np.expand_dims(X_val, -1)\n",
        "X_test = np.expand_dims(X_test, -1)\n",
        "\n",
        "# Encode the labels\n",
        "label_encoder = LabelEncoder()\n",
        "y_train_encoded = label_encoder.fit_transform(y_train)\n",
        "y_val_encoded = label_encoder.transform(y_val)\n",
        "y_test_encoded = label_encoder.transform(y_test)\n",
        "\n",
        "# One-hot encode the labels\n",
        "y_train_one_hot = to_categorical(y_train_encoded)\n",
        "y_val_one_hot = to_categorical(y_val_encoded)\n",
        "y_test_one_hot = to_categorical(y_test_encoded)"
      ]
    },
    {
      "cell_type": "markdown",
      "metadata": {
        "id": "Yz5XNt1nICQ0"
      },
      "source": [
        "### Baseline Model - Random Forest"
      ]
    },
    {
      "cell_type": "code",
      "execution_count": null,
      "metadata": {
        "id": "pCp8gfgNICQ0"
      },
      "outputs": [],
      "source": [
        "# Reshape data\n",
        "X_train_2d = X_train.reshape((X_train.shape[0], -1))\n",
        "X_test_2d = X_test.reshape((X_test.shape[0], -1))\n",
        "\n",
        "# Encoding labels\n",
        "le = LabelEncoder()\n",
        "y_train_encoded = le.fit_transform(y_train)\n",
        "y_test_encoded = le.transform(y_test)\n",
        "\n",
        "# Creating the RandomForest model\n",
        "clf = RandomForestClassifier(n_estimators=100, bootstrap=True, verbose=1, n_jobs=-1)\n",
        "\n",
        "# Train the model using the training sets\n",
        "clf.fit(X_train_2d, y_train_encoded)\n",
        "\n",
        "# Predict the response for test dataset\n",
        "y_pred = clf.predict(X_test_2d)\n"
      ]
    },
    {
      "cell_type": "code",
      "source": [
        "# Classification matrix\n",
        "matrix = classification_report(y_test_encoded, y_pred)\n",
        "lines = matrix.split('\\n')[:1]\n",
        "lines += matrix.split('\\n')[-4:]\n",
        "for line in lines:\n",
        "  print(line)"
      ],
      "metadata": {
        "colab": {
          "base_uri": "https://localhost:8080/"
        },
        "id": "9-sGXtyrZ4Uy",
        "outputId": "5b251456-191c-44d2-aad1-e2fa32d1c809"
      },
      "execution_count": null,
      "outputs": [
        {
          "output_type": "stream",
          "name": "stdout",
          "text": [
            "              precision    recall  f1-score   support\n",
            "    accuracy                           0.27     13300\n",
            "   macro avg       0.15      0.06      0.06     13300\n",
            "weighted avg       0.27      0.27      0.21     13300\n",
            "\n"
          ]
        }
      ]
    },
    {
      "cell_type": "markdown",
      "metadata": {
        "id": "HCCOY3YZICQ0"
      },
      "source": [
        "### Convolutional Neural Network (CNN)"
      ]
    },
    {
      "cell_type": "code",
      "execution_count": null,
      "metadata": {
        "colab": {
          "base_uri": "https://localhost:8080/"
        },
        "id": "xvWPJNxIICQ0",
        "outputId": "acb524b6-10c7-428f-a7b8-2cf9c01d60b2"
      },
      "outputs": [
        {
          "output_type": "stream",
          "name": "stdout",
          "text": [
            "Model: \"sequential_2\"\n",
            "_________________________________________________________________\n",
            " Layer (type)                Output Shape              Param #   \n",
            "=================================================================\n",
            " conv2d_15 (Conv2D)          (None, 128, 157, 32)      320       \n",
            "                                                                 \n",
            " batch_normalization_16 (Bat  (None, 128, 157, 32)     128       \n",
            " chNormalization)                                                \n",
            "                                                                 \n",
            " re_lu_14 (ReLU)             (None, 128, 157, 32)      0         \n",
            "                                                                 \n",
            " max_pooling2d_10 (MaxPoolin  (None, 64, 78, 32)       0         \n",
            " g2D)                                                            \n",
            "                                                                 \n",
            " conv2d_16 (Conv2D)          (None, 64, 78, 64)        18496     \n",
            "                                                                 \n",
            " batch_normalization_17 (Bat  (None, 64, 78, 64)       256       \n",
            " chNormalization)                                                \n",
            "                                                                 \n",
            " re_lu_15 (ReLU)             (None, 64, 78, 64)        0         \n",
            "                                                                 \n",
            " max_pooling2d_11 (MaxPoolin  (None, 32, 39, 64)       0         \n",
            " g2D)                                                            \n",
            "                                                                 \n",
            " conv2d_17 (Conv2D)          (None, 32, 39, 128)       73856     \n",
            "                                                                 \n",
            " batch_normalization_18 (Bat  (None, 32, 39, 128)      512       \n",
            " chNormalization)                                                \n",
            "                                                                 \n",
            " re_lu_16 (ReLU)             (None, 32, 39, 128)       0         \n",
            "                                                                 \n",
            " max_pooling2d_12 (MaxPoolin  (None, 16, 19, 128)      0         \n",
            " g2D)                                                            \n",
            "                                                                 \n",
            " conv2d_18 (Conv2D)          (None, 16, 19, 256)       295168    \n",
            "                                                                 \n",
            " batch_normalization_19 (Bat  (None, 16, 19, 256)      1024      \n",
            " chNormalization)                                                \n",
            "                                                                 \n",
            " re_lu_17 (ReLU)             (None, 16, 19, 256)       0         \n",
            "                                                                 \n",
            " max_pooling2d_13 (MaxPoolin  (None, 8, 9, 256)        0         \n",
            " g2D)                                                            \n",
            "                                                                 \n",
            " conv2d_19 (Conv2D)          (None, 8, 9, 512)         1180160   \n",
            "                                                                 \n",
            " batch_normalization_20 (Bat  (None, 8, 9, 512)        2048      \n",
            " chNormalization)                                                \n",
            "                                                                 \n",
            " re_lu_18 (ReLU)             (None, 8, 9, 512)         0         \n",
            "                                                                 \n",
            " max_pooling2d_14 (MaxPoolin  (None, 4, 4, 512)        0         \n",
            " g2D)                                                            \n",
            "                                                                 \n",
            " conv2d_20 (Conv2D)          (None, 3, 3, 512)         1049088   \n",
            "                                                                 \n",
            " batch_normalization_21 (Bat  (None, 3, 3, 512)        2048      \n",
            " chNormalization)                                                \n",
            "                                                                 \n",
            " re_lu_19 (ReLU)             (None, 3, 3, 512)         0         \n",
            "                                                                 \n",
            " dropout_6 (Dropout)         (None, 3, 3, 512)         0         \n",
            "                                                                 \n",
            " conv2d_21 (Conv2D)          (None, 3, 3, 1024)        525312    \n",
            "                                                                 \n",
            " batch_normalization_22 (Bat  (None, 3, 3, 1024)       4096      \n",
            " chNormalization)                                                \n",
            "                                                                 \n",
            " re_lu_20 (ReLU)             (None, 3, 3, 1024)        0         \n",
            "                                                                 \n",
            " dropout_7 (Dropout)         (None, 3, 3, 1024)        0         \n",
            "                                                                 \n",
            " conv2d_22 (Conv2D)          (None, 3, 3, 217)         222425    \n",
            "                                                                 \n",
            " batch_normalization_23 (Bat  (None, 3, 3, 217)        868       \n",
            " chNormalization)                                                \n",
            "                                                                 \n",
            " dropout_8 (Dropout)         (None, 3, 3, 217)         0         \n",
            "                                                                 \n",
            " flatten_1 (Flatten)         (None, 1953)              0         \n",
            "                                                                 \n",
            " dense_2 (Dense)             (None, 217)               424018    \n",
            "                                                                 \n",
            "=================================================================\n",
            "Total params: 3,799,823\n",
            "Trainable params: 3,794,333\n",
            "Non-trainable params: 5,490\n",
            "_________________________________________________________________\n",
            "Epoch 1/10\n",
            "3201/3201 [==============================] - 54s 15ms/step - loss: 3.3048 - accuracy: 0.3371 - val_loss: 3.0084 - val_accuracy: 0.3606\n",
            "Epoch 2/10\n",
            "3201/3201 [==============================] - 46s 14ms/step - loss: 2.1533 - accuracy: 0.5249 - val_loss: 2.5315 - val_accuracy: 0.4498\n",
            "Epoch 3/10\n",
            "3201/3201 [==============================] - 46s 14ms/step - loss: 1.7235 - accuracy: 0.6074 - val_loss: 2.0749 - val_accuracy: 0.5611\n",
            "Epoch 4/10\n",
            "3201/3201 [==============================] - 46s 14ms/step - loss: 1.4455 - accuracy: 0.6630 - val_loss: 1.9755 - val_accuracy: 0.5837\n",
            "Epoch 5/10\n",
            "3201/3201 [==============================] - 46s 14ms/step - loss: 1.2300 - accuracy: 0.7075 - val_loss: 2.1741 - val_accuracy: 0.5496\n",
            "Epoch 6/10\n",
            "3201/3201 [==============================] - 46s 14ms/step - loss: 1.0601 - accuracy: 0.7430 - val_loss: 1.8782 - val_accuracy: 0.6154\n",
            "Epoch 7/10\n",
            "3201/3201 [==============================] - 46s 14ms/step - loss: 0.9152 - accuracy: 0.7722 - val_loss: 1.8600 - val_accuracy: 0.6329\n",
            "Epoch 8/10\n",
            "3201/3201 [==============================] - 46s 14ms/step - loss: 0.7954 - accuracy: 0.7976 - val_loss: 1.8324 - val_accuracy: 0.6324\n",
            "Epoch 9/10\n",
            "3201/3201 [==============================] - 46s 14ms/step - loss: 0.6887 - accuracy: 0.8213 - val_loss: 2.2671 - val_accuracy: 0.5741\n",
            "Epoch 10/10\n",
            "3201/3201 [==============================] - 46s 14ms/step - loss: 0.5998 - accuracy: 0.8407 - val_loss: 1.9781 - val_accuracy: 0.6237\n",
            "416/416 [==============================] - 2s 5ms/step - loss: 2.0117 - accuracy: 0.6240\n",
            "416/416 [==============================] - 1s 3ms/step\n"
          ]
        }
      ],
      "source": [
        "n_classes = df_snippet_train['common_name'].nunique()\n",
        "input_shape = X_train[0].shape\n",
        "\n",
        "model = Sequential([\n",
        "    # Layer 1\n",
        "    Conv2D(32, kernel_size=(3, 3), activation='relu', input_shape=input_shape, padding='same'),\n",
        "    BatchNormalization(),\n",
        "    ReLU(),\n",
        "    MaxPooling2D(pool_size=(2, 2)),\n",
        "\n",
        "    # Layer 2\n",
        "    Conv2D(64, kernel_size=(3, 3), strides=1, activation='relu', padding='same'),\n",
        "    BatchNormalization(),\n",
        "    ReLU(),\n",
        "    MaxPooling2D(pool_size=(2, 2)),\n",
        "\n",
        "    # Layer 3\n",
        "    Conv2D(128, kernel_size=(3, 3), strides=1, activation='relu', padding='same'),\n",
        "    BatchNormalization(),\n",
        "    ReLU(),\n",
        "    MaxPooling2D(pool_size=(2, 2)),\n",
        "\n",
        "    # Layer 4\n",
        "    Conv2D(256, kernel_size=(3, 3), strides=1, activation='relu', padding='same'),\n",
        "    BatchNormalization(),\n",
        "    ReLU(),\n",
        "    MaxPooling2D(pool_size=(2, 2)),\n",
        "\n",
        "    # Layer 5\n",
        "    Conv2D(512, kernel_size=(3, 3), strides=1, activation='relu', padding='same'),\n",
        "    BatchNormalization(),\n",
        "    ReLU(),\n",
        "    MaxPooling2D(pool_size=(2, 2)),\n",
        "\n",
        "    # Layer 6\n",
        "    Conv2D(512, (2, 2), padding='valid', activation='relu'),\n",
        "    BatchNormalization(),\n",
        "    ReLU(),\n",
        "    Dropout(0.5),\n",
        "    \n",
        "    # Layer 7\n",
        "    Conv2D(1024, (1, 1), padding='valid', activation='relu'),\n",
        "    BatchNormalization(),\n",
        "    ReLU(),\n",
        "    Dropout(0.5),\n",
        "    \n",
        "    # Layer 8\n",
        "    Conv2D(n_classes, (1, 1), padding='valid'),\n",
        "    BatchNormalization(),\n",
        "    Dropout(0.5),\n",
        "    \n",
        "    # Dense Layer\n",
        "    Flatten(),\n",
        "    Dense(n_classes, activation='softmax')\n",
        "])\n",
        "# Summary of the model\n",
        "model.summary()\n",
        "\n",
        "# Define the learning rate scheduler\n",
        "reduce_lr = ReduceLROnPlateau(monitor='val_loss', factor=0.5, patience=10, min_lr=0.0001, verbose=1)\n",
        "\n",
        "# Optimizer\n",
        "optimizer = Adam(learning_rate=0.001)\n",
        "\n",
        "# Compile the model\n",
        "model.compile(loss='categorical_crossentropy', optimizer=optimizer, metrics=['accuracy'])\n",
        "\n",
        "# Fit the model\n",
        "history = model.fit(X_train, y_train_one_hot, validation_data=(X_val, y_val_one_hot), epochs=10, batch_size=32)\n",
        "\n",
        "# Evaluate/Predict\n",
        "test_loss, test_acc = model.evaluate(X_test, y_test_one_hot)\n",
        "y_pred_one_hot = model.predict(X_test)"
      ]
    },
    {
      "cell_type": "code",
      "source": [
        "model.save('./data/models/CNN_5s')"
      ],
      "metadata": {
        "id": "6ez9OrYTpidF"
      },
      "execution_count": null,
      "outputs": []
    },
    {
      "cell_type": "code",
      "source": [
        "plot_history(history)"
      ],
      "metadata": {
        "colab": {
          "base_uri": "https://localhost:8080/",
          "height": 472
        },
        "id": "_NCu_HWppiv0",
        "outputId": "11c25fd2-1da3-4a8b-98e2-d789bb286a69"
      },
      "execution_count": null,
      "outputs": [
        {
          "output_type": "display_data",
          "data": {
            "text/plain": [
              "<Figure size 640x480 with 1 Axes>"
            ],
            "image/png": "[encoded data removed]"
          },
          "metadata": {}
        }
      ]
    },
    {
      "cell_type": "code",
      "source": [
        "# Evaluate the model\n",
        "print('Test Loss: {}'.format(round(test_loss, 2)))\n",
        "print('Test Accuracy: {}\\n'.format(round(test_acc,2)))\n",
        "\n",
        "# Classification matrix\n",
        "y_pred = np.argmax(y_pred_one_hot, axis=1)\n",
        "y_true = np.argmax(y_test_one_hot, axis=1)\n",
        "\n",
        "matrix = classification_report(y_true, y_pred)\n",
        "lines = matrix.split('\\n')[:1]\n",
        "lines += matrix.split('\\n')[-4:]\n",
        "for line in lines:\n",
        "  print(line)"
      ],
      "metadata": {
        "colab": {
          "base_uri": "https://localhost:8080/"
        },
        "id": "rn6O07V1p2p3",
        "outputId": "16f18969-7e97-4d14-ee78-8318d40703af"
      },
      "execution_count": null,
      "outputs": [
        {
          "output_type": "stream",
          "name": "stdout",
          "text": [
            "Test Loss: 2.01\n",
            "Test Accuracy: 0.62\n",
            "\n",
            "              precision    recall  f1-score   support\n",
            "    accuracy                           0.62     13300\n",
            "   macro avg       0.47      0.38      0.39     13300\n",
            "weighted avg       0.63      0.62      0.61     13300\n",
            "\n"
          ]
        }
      ]
    },
    {
      "cell_type": "markdown",
      "metadata": {
        "id": "G45KQEAaICQ0"
      },
      "source": [
        "### Recurrent Convolutional Neural Network (RCNN)"
      ]
    },
    {
      "cell_type": "code",
      "execution_count": null,
      "metadata": {
        "colab": {
          "base_uri": "https://localhost:8080/"
        },
        "id": "zqOCymFqICQ0",
        "outputId": "1e3d0359-2e20-4e9a-e5fc-c2001eb80d52"
      },
      "outputs": [
        {
          "output_type": "stream",
          "name": "stdout",
          "text": [
            "Model: \"sequential_3\"\n",
            "_________________________________________________________________\n",
            " Layer (type)                Output Shape              Param #   \n",
            "=================================================================\n",
            " conv2d_23 (Conv2D)          (None, 128, 157, 32)      320       \n",
            "                                                                 \n",
            " batch_normalization_24 (Bat  (None, 128, 157, 32)     128       \n",
            " chNormalization)                                                \n",
            "                                                                 \n",
            " re_lu_21 (ReLU)             (None, 128, 157, 32)      0         \n",
            "                                                                 \n",
            " max_pooling2d_15 (MaxPoolin  (None, 64, 78, 32)       0         \n",
            " g2D)                                                            \n",
            "                                                                 \n",
            " conv2d_24 (Conv2D)          (None, 64, 78, 64)        18496     \n",
            "                                                                 \n",
            " batch_normalization_25 (Bat  (None, 64, 78, 64)       256       \n",
            " chNormalization)                                                \n",
            "                                                                 \n",
            " re_lu_22 (ReLU)             (None, 64, 78, 64)        0         \n",
            "                                                                 \n",
            " max_pooling2d_16 (MaxPoolin  (None, 32, 39, 64)       0         \n",
            " g2D)                                                            \n",
            "                                                                 \n",
            " conv2d_25 (Conv2D)          (None, 32, 39, 128)       73856     \n",
            "                                                                 \n",
            " batch_normalization_26 (Bat  (None, 32, 39, 128)      512       \n",
            " chNormalization)                                                \n",
            "                                                                 \n",
            " re_lu_23 (ReLU)             (None, 32, 39, 128)       0         \n",
            "                                                                 \n",
            " max_pooling2d_17 (MaxPoolin  (None, 16, 19, 128)      0         \n",
            " g2D)                                                            \n",
            "                                                                 \n",
            " conv2d_26 (Conv2D)          (None, 16, 19, 256)       295168    \n",
            "                                                                 \n",
            " batch_normalization_27 (Bat  (None, 16, 19, 256)      1024      \n",
            " chNormalization)                                                \n",
            "                                                                 \n",
            " re_lu_24 (ReLU)             (None, 16, 19, 256)       0         \n",
            "                                                                 \n",
            " max_pooling2d_18 (MaxPoolin  (None, 8, 9, 256)        0         \n",
            " g2D)                                                            \n",
            "                                                                 \n",
            " conv2d_27 (Conv2D)          (None, 8, 9, 512)         1180160   \n",
            "                                                                 \n",
            " batch_normalization_28 (Bat  (None, 8, 9, 512)        2048      \n",
            " chNormalization)                                                \n",
            "                                                                 \n",
            " re_lu_25 (ReLU)             (None, 8, 9, 512)         0         \n",
            "                                                                 \n",
            " max_pooling2d_19 (MaxPoolin  (None, 4, 4, 512)        0         \n",
            " g2D)                                                            \n",
            "                                                                 \n",
            " conv2d_28 (Conv2D)          (None, 3, 3, 512)         1049088   \n",
            "                                                                 \n",
            " batch_normalization_29 (Bat  (None, 3, 3, 512)        2048      \n",
            " chNormalization)                                                \n",
            "                                                                 \n",
            " re_lu_26 (ReLU)             (None, 3, 3, 512)         0         \n",
            "                                                                 \n",
            " dropout_9 (Dropout)         (None, 3, 3, 512)         0         \n",
            "                                                                 \n",
            " conv2d_29 (Conv2D)          (None, 3, 3, 1024)        525312    \n",
            "                                                                 \n",
            " batch_normalization_30 (Bat  (None, 3, 3, 1024)       4096      \n",
            " chNormalization)                                                \n",
            "                                                                 \n",
            " re_lu_27 (ReLU)             (None, 3, 3, 1024)        0         \n",
            "                                                                 \n",
            " dropout_10 (Dropout)        (None, 3, 3, 1024)        0         \n",
            "                                                                 \n",
            " reshape_1 (Reshape)         (None, 18, 512)           0         \n",
            "                                                                 \n",
            " lstm_1 (LSTM)               (None, 512)               2099200   \n",
            "                                                                 \n",
            " dropout_11 (Dropout)        (None, 512)               0         \n",
            "                                                                 \n",
            " batch_normalization_31 (Bat  (None, 512)              2048      \n",
            " chNormalization)                                                \n",
            "                                                                 \n",
            " dense_3 (Dense)             (None, 217)               111321    \n",
            "                                                                 \n",
            "=================================================================\n",
            "Total params: 5,365,081\n",
            "Trainable params: 5,359,001\n",
            "Non-trainable params: 6,080\n",
            "_________________________________________________________________\n",
            "Epoch 1/20\n",
            "3201/3201 [==============================] - 58s 16ms/step - loss: 3.1800 - accuracy: 0.3395 - val_loss: 2.8008 - val_accuracy: 0.4108\n",
            "Epoch 2/20\n",
            "3201/3201 [==============================] - 50s 16ms/step - loss: 2.3417 - accuracy: 0.4828 - val_loss: 2.8475 - val_accuracy: 0.3989\n",
            "Epoch 3/20\n",
            "3201/3201 [==============================] - 50s 16ms/step - loss: 2.0196 - accuracy: 0.5461 - val_loss: 2.4622 - val_accuracy: 0.4841\n",
            "Epoch 4/20\n",
            "3201/3201 [==============================] - 51s 16ms/step - loss: 1.7977 - accuracy: 0.5900 - val_loss: 2.1953 - val_accuracy: 0.5361\n",
            "Epoch 5/20\n",
            "3201/3201 [==============================] - 50s 16ms/step - loss: 1.6362 - accuracy: 0.6222 - val_loss: 2.0660 - val_accuracy: 0.5597\n",
            "Epoch 6/20\n",
            "3201/3201 [==============================] - 50s 16ms/step - loss: 1.5124 - accuracy: 0.6471 - val_loss: 2.0287 - val_accuracy: 0.5841\n",
            "Epoch 7/20\n",
            "3201/3201 [==============================] - 50s 16ms/step - loss: 1.4133 - accuracy: 0.6678 - val_loss: 1.9750 - val_accuracy: 0.5990\n",
            "Epoch 8/20\n",
            "3201/3201 [==============================] - 50s 16ms/step - loss: 1.3263 - accuracy: 0.6861 - val_loss: 2.0704 - val_accuracy: 0.5789\n",
            "Epoch 9/20\n",
            "3201/3201 [==============================] - 50s 16ms/step - loss: 1.2465 - accuracy: 0.7017 - val_loss: 2.0430 - val_accuracy: 0.5872\n",
            "Epoch 10/20\n",
            "3201/3201 [==============================] - 50s 16ms/step - loss: 1.1786 - accuracy: 0.7165 - val_loss: 1.9246 - val_accuracy: 0.6147\n",
            "Epoch 11/20\n",
            "3201/3201 [==============================] - 50s 16ms/step - loss: 1.1173 - accuracy: 0.7299 - val_loss: 1.9623 - val_accuracy: 0.6147\n",
            "Epoch 12/20\n",
            "3201/3201 [==============================] - 50s 16ms/step - loss: 1.0625 - accuracy: 0.7410 - val_loss: 2.1292 - val_accuracy: 0.5880\n",
            "Epoch 13/20\n",
            "3201/3201 [==============================] - 50s 16ms/step - loss: 1.0130 - accuracy: 0.7508 - val_loss: 2.0423 - val_accuracy: 0.6091\n",
            "Epoch 14/20\n",
            "3201/3201 [==============================] - 50s 16ms/step - loss: 0.9673 - accuracy: 0.7619 - val_loss: 2.0005 - val_accuracy: 0.6170\n",
            "Epoch 15/20\n",
            "3201/3201 [==============================] - 50s 16ms/step - loss: 0.9238 - accuracy: 0.7711 - val_loss: 1.9687 - val_accuracy: 0.6208\n",
            "Epoch 16/20\n",
            "3201/3201 [==============================] - 50s 16ms/step - loss: 0.8867 - accuracy: 0.7772 - val_loss: 2.0150 - val_accuracy: 0.6265\n",
            "Epoch 17/20\n",
            "3201/3201 [==============================] - 50s 16ms/step - loss: 0.8508 - accuracy: 0.7870 - val_loss: 2.0533 - val_accuracy: 0.6237\n",
            "Epoch 18/20\n",
            "3201/3201 [==============================] - 50s 16ms/step - loss: 0.8129 - accuracy: 0.7950 - val_loss: 2.0190 - val_accuracy: 0.6248\n",
            "Epoch 19/20\n",
            "3201/3201 [==============================] - 50s 16ms/step - loss: 0.7883 - accuracy: 0.7998 - val_loss: 2.0752 - val_accuracy: 0.6268\n",
            "Epoch 20/20\n",
            "3201/3201 [==============================] - 50s 16ms/step - loss: 0.7540 - accuracy: 0.8079 - val_loss: 2.0847 - val_accuracy: 0.6240\n",
            "416/416 [==============================] - 2s 5ms/step - loss: 2.0530 - accuracy: 0.6256\n",
            "416/416 [==============================] - 2s 4ms/step\n"
          ]
        }
      ],
      "source": [
        "n_classes = df_snippet_train['common_name'].nunique()\n",
        "input_shape = X_train[0].shape\n",
        "\n",
        "model = Sequential([\n",
        "    # Layer 1\n",
        "    Conv2D(32, kernel_size=(3, 3), activation='relu', input_shape=input_shape, padding='same'),\n",
        "    BatchNormalization(),\n",
        "    ReLU(),\n",
        "    MaxPooling2D(pool_size=(2, 2)),\n",
        "\n",
        "    # Layer 2\n",
        "    Conv2D(64, kernel_size=(3, 3), strides=1, activation='relu', padding='same'),\n",
        "    BatchNormalization(),\n",
        "    ReLU(),\n",
        "    MaxPooling2D(pool_size=(2, 2)),\n",
        "\n",
        "    # Layer 3\n",
        "    Conv2D(128, kernel_size=(3, 3), strides=1, activation='relu', padding='same'),\n",
        "    BatchNormalization(),\n",
        "    ReLU(),\n",
        "    MaxPooling2D(pool_size=(2, 2)),\n",
        "\n",
        "    # Layer 4\n",
        "    Conv2D(256, kernel_size=(3, 3), strides=1, activation='relu', padding='same'),\n",
        "    BatchNormalization(),\n",
        "    ReLU(),\n",
        "    MaxPooling2D(pool_size=(2, 2)),\n",
        "\n",
        "    # Layer 5\n",
        "    Conv2D(512, kernel_size=(3, 3), strides=1, activation='relu', padding='same'),\n",
        "    BatchNormalization(),\n",
        "    ReLU(),\n",
        "    MaxPooling2D(pool_size=(2, 2)),\n",
        "\n",
        "    # Layer 6\n",
        "    Conv2D(512, (2, 2), padding='valid', activation='relu'),\n",
        "    BatchNormalization(),\n",
        "    ReLU(),\n",
        "    Dropout(0.5),\n",
        "    \n",
        "    # Layer 7\n",
        "    Conv2D(1024, (1, 1), padding='valid', activation='relu'),\n",
        "    BatchNormalization(),\n",
        "    ReLU(),\n",
        "    Dropout(0.5),\n",
        "    \n",
        "    Reshape((-1, 512)),  # We have to reshape our data for LSTM\n",
        "    LSTM(512),\n",
        "\n",
        "    Dropout(0.3),\n",
        "    BatchNormalization(),\n",
        "    Dense(df_snippet_train['common_name'].nunique(), activation='softmax')  \n",
        "])\n",
        "\n",
        "# Summary of the model\n",
        "model.summary()\n",
        "\n",
        "# Define the learning rate scheduler\n",
        "reduce_lr = ReduceLROnPlateau(monitor='val_loss', factor=0.5, patience=10, min_lr=0.0001, verbose=1)\n",
        "\n",
        "# Optimizer\n",
        "optimizer = Adam(learning_rate=0.001)\n",
        "\n",
        "# Compile the model\n",
        "model.compile(loss='categorical_crossentropy', optimizer=optimizer, metrics=['accuracy'])\n",
        "\n",
        "# Fit the model\n",
        "history = model.fit(X_train, y_train_one_hot, validation_data=(X_val, y_val_one_hot), epochs=20, batch_size=32)\n",
        "\n",
        "# Evaluate the model\n",
        "test_loss, test_acc = model.evaluate(X_test, y_test_one_hot)\n",
        "\n",
        "# Classification matrix\n",
        "y_pred_one_hot = model.predict(X_test)"
      ]
    },
    {
      "cell_type": "code",
      "execution_count": null,
      "metadata": {
        "id": "zQQ0cyfOICQ1"
      },
      "outputs": [],
      "source": [
        "model.save('./data/models/RCNN_5s')"
      ]
    },
    {
      "cell_type": "code",
      "execution_count": null,
      "metadata": {
        "colab": {
          "base_uri": "https://localhost:8080/",
          "height": 472
        },
        "id": "5yGbtLEQICQ1",
        "outputId": "cdaa6030-5c78-47df-f4f0-696e98fe3558"
      },
      "outputs": [
        {
          "output_type": "display_data",
          "data": {
            "text/plain": [
              "<Figure size 640x480 with 1 Axes>"
            ],
            "image/png": "[encoded data removed]"
          },
          "metadata": {}
        }
      ],
      "source": [
        "plot_history(history)"
      ]
    },
    {
      "cell_type": "code",
      "execution_count": null,
      "metadata": {
        "colab": {
          "base_uri": "https://localhost:8080/"
        },
        "id": "t9_lxbQsICQ1",
        "outputId": "27b05c76-9c08-489c-cd2c-65d956559497"
      },
      "outputs": [
        {
          "output_type": "stream",
          "name": "stdout",
          "text": [
            "Test Loss: 2.05\n",
            "Test Accuracy: 0.63\n",
            "\n",
            "              precision    recall  f1-score   support\n",
            "    accuracy                           0.63     13300\n",
            "   macro avg       0.41      0.38      0.37     13300\n",
            "weighted avg       0.63      0.63      0.62     13300\n",
            "\n"
          ]
        }
      ],
      "source": [
        "# Evaluate the model\n",
        "print('Test Loss: {}'.format(round(test_loss, 2)))\n",
        "print('Test Accuracy: {}\\n'.format(round(test_acc,2)))\n",
        "\n",
        "# Classification matrix\n",
        "y_pred = np.argmax(y_pred_one_hot, axis=1)\n",
        "y_true = np.argmax(y_test_one_hot, axis=1)\n",
        "\n",
        "matrix = classification_report(y_true, y_pred)\n",
        "lines = matrix.split('\\n')[:1]\n",
        "lines += matrix.split('\\n')[-4:]\n",
        "for line in lines:\n",
        "  print(line)"
      ]
    }
  ],
  "metadata": {
    "kernelspec": {
      "display_name": "mlp",
      "language": "python",
      "name": "python3"
    },
    "language_info": {
      "codemirror_mode": {
        "name": "ipython",
        "version": 3
      },
      "file_extension": ".py",
      "mimetype": "text/x-python",
      "name": "python",
      "nbconvert_exporter": "python",
      "pygments_lexer": "ipython3",
      "version": "3.9.2"
    },
    "orig_nbformat": 4,
    "vscode": {
      "interpreter": {
        "hash": "882d844d28d6215533a9893aa96b3471edfda2a6f1fc7fdfdd6509b64a5427b5"
      }
    },
    "colab": {
      "provenance": [],
      "machine_shape": "hm",
      "gpuType": "A100"
    },
    "accelerator": "GPU",
    "gpuClass": "standard"
  },
  "nbformat": 4,
  "nbformat_minor": 0
}
